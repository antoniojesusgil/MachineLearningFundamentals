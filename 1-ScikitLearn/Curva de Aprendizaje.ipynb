{
 "cells": [
  {
   "cell_type": "markdown",
   "metadata": {},
   "source": [
    "<img src=\"../img/crowdlearning-etic.png\" alt=\"Logo ETIC\" align=\"right\">\n",
    "\n",
    "\n",
    "<h1><font color=\"#004D7F\" size=6>Curva de Aprendizaje </font></h1>\n",
    "\n",
    "<br>\n",
    "<br>\n",
    "<br>\n",
    "<br>\n",
    "<div style=\"text-align: right\">\n",
    "<font color=\"#004D7F\" size=3>Antonio Jesús Gil</font><br>\n",
    "<font color=\"#004D7F\" size=3>Fundamentos de Machine Learning</font><br>\n",
    "\n",
    "</div>"
   ]
  },
  {
   "cell_type": "markdown",
   "metadata": {},
   "source": [
    "Una curva de aprendizaje permite encontrar el punto desde el cual el algoritmo comienza a aprender. Representa convencionalmente mejora en el rendimiento en el eje vertical cuando hay cambios en otro parámetro (en el eje horizontal), tales como el tamaño del conjunto de entrenamiento (en aprendizaje automático) o iteración/tiempo (tanto en máquina como en aprendizaje biológico). \n",
    "\n",
    "Dependiendo de cómo estén mapeados sus ejes `X` e `Y`, uno de sus ejes comenzará a acercarse a un valor constante mientras que los valores del otro eje seguirán aumentando, aqui es cuando comienza el aprendizaje. La curva completa te permite medir la velocidad a la que tu algoritmo puede aprender.\n",
    "\n",
    "El punto máximo suele ser cuando la pendiente comienza a retroceder. Puede tomar una cantidad de medidas derivadas hasta el punto máximo/mínimo.\n",
    "\n",
    "En el siguiente enlace se profundiza exhaustivamente en la curva de aprendizaje: \n",
    "\n",
    "https://www.dataquest.io/blog/learning-curves-machine-learning/"
   ]
  },
  {
   "cell_type": "code",
   "execution_count": null,
   "metadata": {},
   "outputs": [],
   "source": []
  }
 ],
 "metadata": {
  "kernelspec": {
   "display_name": "Python 3",
   "language": "python",
   "name": "python3"
  },
  "language_info": {
   "codemirror_mode": {
    "name": "ipython",
    "version": 3
   },
   "file_extension": ".py",
   "mimetype": "text/x-python",
   "name": "python",
   "nbconvert_exporter": "python",
   "pygments_lexer": "ipython3",
   "version": "3.7.3"
  }
 },
 "nbformat": 4,
 "nbformat_minor": 2
}
