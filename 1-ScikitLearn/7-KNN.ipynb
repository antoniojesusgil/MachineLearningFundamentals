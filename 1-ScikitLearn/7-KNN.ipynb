{
 "cells": [
  {
   "cell_type": "markdown",
   "metadata": {},
   "source": [
    "<img src=\"../img/crowdlearning-etic.png\" alt=\"Logo ETIC\" align=\"right\">\n",
    "\n",
    "\n",
    "<h1><font color=\"#004D7F\" size=6>K Vecinos más cercanos</font></h1>\n",
    "\n",
    "<br>\n",
    "<br>\n",
    "<br>\n",
    "<br>\n",
    "<div style=\"text-align: right\">\n",
    "<font color=\"#004D7F\" size=3>Antonio Jesús Gil</font><br>\n",
    "<font color=\"#004D7F\" size=3>Fundamentos de Machine Learning</font><br>\n",
    "\n",
    "</div>"
   ]
  },
  {
   "cell_type": "markdown",
   "metadata": {},
   "source": [
    "Clasificación Supervisada\n",
    "\n",
    "Este método estima la probabilidad que un elemento `x` pertenezca a una clase `C`\n",
    "\n",
    "En el reconocimiento de patrones, este algoritmo es usado como método de clasificacion de objetos, basado en un etrenamiento mediante elementos cercanos en el espacio.\n",
    "\n",
    "Trabaja con gran cantidad de clases y su implementación es sencilla.\n",
    "\n",
    "- Calcula la distancia del punto a clasificar con respecto al resto de elementos\n",
    "- Ordena los puntos en función de la distancia, de menor a mayor\n",
    "- Predice el grupo al que pertenece en función de la clase a la que pertenecen los `K` elementos más cercanos"
   ]
  },
  {
   "cell_type": "markdown",
   "metadata": {},
   "source": [
    "<img src=\"../img/knn3.png\" height=\"300\" width=\"300\">"
   ]
  },
  {
   "cell_type": "markdown",
   "metadata": {},
   "source": [
    "Este ejercicio consiste en una base de datos donde se muestran diferentes tipos de vehiculos en función de sus caracteristicas."
   ]
  },
  {
   "cell_type": "code",
   "execution_count": 34,
   "metadata": {},
   "outputs": [],
   "source": [
    "import pandas as pd\n",
    "import matplotlib.pyplot as plt\n",
    "import numpy as np\n",
    "import seaborn as sns"
   ]
  },
  {
   "cell_type": "code",
   "execution_count": 35,
   "metadata": {},
   "outputs": [
    {
     "data": {
      "text/html": [
       "<div>\n",
       "<style scoped>\n",
       "    .dataframe tbody tr th:only-of-type {\n",
       "        vertical-align: middle;\n",
       "    }\n",
       "\n",
       "    .dataframe tbody tr th {\n",
       "        vertical-align: top;\n",
       "    }\n",
       "\n",
       "    .dataframe thead th {\n",
       "        text-align: right;\n",
       "    }\n",
       "</style>\n",
       "<table border=\"1\" class=\"dataframe\">\n",
       "  <thead>\n",
       "    <tr style=\"text-align: right;\">\n",
       "      <th></th>\n",
       "      <th>compactness</th>\n",
       "      <th>circularity</th>\n",
       "      <th>distance_circularity</th>\n",
       "      <th>radius_ratio</th>\n",
       "      <th>pr_axis_aspect_ratio</th>\n",
       "      <th>max_length_aspect_ratio</th>\n",
       "      <th>scatter_ratio</th>\n",
       "      <th>elongatedness</th>\n",
       "      <th>pr_axis_rectangularity</th>\n",
       "      <th>max_length_rectangularity</th>\n",
       "      <th>scaled_variance_major_axis</th>\n",
       "      <th>scaled_variance_minor_axis</th>\n",
       "      <th>scaled_radius_gyration</th>\n",
       "      <th>skewness_major_axis</th>\n",
       "      <th>skewness_minor_axis</th>\n",
       "      <th>kurtosis_minor_axis</th>\n",
       "      <th>kurtosis_major_axis</th>\n",
       "      <th>hollows_ratio</th>\n",
       "      <th>vehicle_class</th>\n",
       "    </tr>\n",
       "  </thead>\n",
       "  <tbody>\n",
       "    <tr>\n",
       "      <th>0</th>\n",
       "      <td>95.0</td>\n",
       "      <td>48.0</td>\n",
       "      <td>83.0</td>\n",
       "      <td>178.0</td>\n",
       "      <td>72.0</td>\n",
       "      <td>10.0</td>\n",
       "      <td>162.0</td>\n",
       "      <td>42.0</td>\n",
       "      <td>20.0</td>\n",
       "      <td>159.0</td>\n",
       "      <td>176.0</td>\n",
       "      <td>379.0</td>\n",
       "      <td>184.0</td>\n",
       "      <td>70.0</td>\n",
       "      <td>6.0</td>\n",
       "      <td>16.0</td>\n",
       "      <td>187.0</td>\n",
       "      <td>197.0</td>\n",
       "      <td>van</td>\n",
       "    </tr>\n",
       "    <tr>\n",
       "      <th>1</th>\n",
       "      <td>91.0</td>\n",
       "      <td>41.0</td>\n",
       "      <td>84.0</td>\n",
       "      <td>141.0</td>\n",
       "      <td>57.0</td>\n",
       "      <td>9.0</td>\n",
       "      <td>149.0</td>\n",
       "      <td>45.0</td>\n",
       "      <td>19.0</td>\n",
       "      <td>143.0</td>\n",
       "      <td>170.0</td>\n",
       "      <td>330.0</td>\n",
       "      <td>158.0</td>\n",
       "      <td>72.0</td>\n",
       "      <td>9.0</td>\n",
       "      <td>14.0</td>\n",
       "      <td>189.0</td>\n",
       "      <td>199.0</td>\n",
       "      <td>van</td>\n",
       "    </tr>\n",
       "    <tr>\n",
       "      <th>2</th>\n",
       "      <td>104.0</td>\n",
       "      <td>50.0</td>\n",
       "      <td>106.0</td>\n",
       "      <td>209.0</td>\n",
       "      <td>66.0</td>\n",
       "      <td>10.0</td>\n",
       "      <td>207.0</td>\n",
       "      <td>32.0</td>\n",
       "      <td>23.0</td>\n",
       "      <td>158.0</td>\n",
       "      <td>223.0</td>\n",
       "      <td>635.0</td>\n",
       "      <td>220.0</td>\n",
       "      <td>73.0</td>\n",
       "      <td>14.0</td>\n",
       "      <td>9.0</td>\n",
       "      <td>188.0</td>\n",
       "      <td>196.0</td>\n",
       "      <td>saab</td>\n",
       "    </tr>\n",
       "    <tr>\n",
       "      <th>3</th>\n",
       "      <td>93.0</td>\n",
       "      <td>41.0</td>\n",
       "      <td>82.0</td>\n",
       "      <td>159.0</td>\n",
       "      <td>63.0</td>\n",
       "      <td>9.0</td>\n",
       "      <td>144.0</td>\n",
       "      <td>46.0</td>\n",
       "      <td>19.0</td>\n",
       "      <td>143.0</td>\n",
       "      <td>160.0</td>\n",
       "      <td>309.0</td>\n",
       "      <td>127.0</td>\n",
       "      <td>63.0</td>\n",
       "      <td>6.0</td>\n",
       "      <td>10.0</td>\n",
       "      <td>199.0</td>\n",
       "      <td>207.0</td>\n",
       "      <td>van</td>\n",
       "    </tr>\n",
       "  </tbody>\n",
       "</table>\n",
       "</div>"
      ],
      "text/plain": [
       "   compactness  circularity  distance_circularity  radius_ratio  \\\n",
       "0         95.0         48.0                  83.0         178.0   \n",
       "1         91.0         41.0                  84.0         141.0   \n",
       "2        104.0         50.0                 106.0         209.0   \n",
       "3         93.0         41.0                  82.0         159.0   \n",
       "\n",
       "   pr_axis_aspect_ratio  max_length_aspect_ratio  scatter_ratio  \\\n",
       "0                  72.0                     10.0          162.0   \n",
       "1                  57.0                      9.0          149.0   \n",
       "2                  66.0                     10.0          207.0   \n",
       "3                  63.0                      9.0          144.0   \n",
       "\n",
       "   elongatedness  pr_axis_rectangularity  max_length_rectangularity  \\\n",
       "0           42.0                    20.0                      159.0   \n",
       "1           45.0                    19.0                      143.0   \n",
       "2           32.0                    23.0                      158.0   \n",
       "3           46.0                    19.0                      143.0   \n",
       "\n",
       "   scaled_variance_major_axis  scaled_variance_minor_axis  \\\n",
       "0                       176.0                       379.0   \n",
       "1                       170.0                       330.0   \n",
       "2                       223.0                       635.0   \n",
       "3                       160.0                       309.0   \n",
       "\n",
       "   scaled_radius_gyration  skewness_major_axis  skewness_minor_axis  \\\n",
       "0                   184.0                 70.0                  6.0   \n",
       "1                   158.0                 72.0                  9.0   \n",
       "2                   220.0                 73.0                 14.0   \n",
       "3                   127.0                 63.0                  6.0   \n",
       "\n",
       "   kurtosis_minor_axis  kurtosis_major_axis  hollows_ratio vehicle_class  \n",
       "0                 16.0                187.0          197.0           van  \n",
       "1                 14.0                189.0          199.0           van  \n",
       "2                  9.0                188.0          196.0          saab  \n",
       "3                 10.0                199.0          207.0           van  "
      ]
     },
     "execution_count": 35,
     "metadata": {},
     "output_type": "execute_result"
    }
   ],
   "source": [
    "vehiculos = pd.read_csv('vehiculos.csv')\n",
    "vehiculos.head(4)"
   ]
  },
  {
   "cell_type": "code",
   "execution_count": 36,
   "metadata": {},
   "outputs": [
    {
     "data": {
      "text/plain": [
       "array(['van', 'saab', 'bus', 'opel'], dtype=object)"
      ]
     },
     "execution_count": 36,
     "metadata": {},
     "output_type": "execute_result"
    }
   ],
   "source": [
    "vehiculos['vehicle_class'].unique()"
   ]
  },
  {
   "cell_type": "code",
   "execution_count": 37,
   "metadata": {},
   "outputs": [],
   "source": [
    "#Variable objetivo sera el tipo de vehiculos\n",
    "Y = vehiculos['vehicle_class']\n",
    "X = vehiculos.drop('vehicle_class', axis=1)"
   ]
  },
  {
   "cell_type": "code",
   "execution_count": 38,
   "metadata": {},
   "outputs": [
    {
     "name": "stdout",
     "output_type": "stream",
     "text": [
      "   compactness  circularity  distance_circularity  radius_ratio  \\\n",
      "0         95.0         48.0                  83.0         178.0   \n",
      "1         91.0         41.0                  84.0         141.0   \n",
      "2        104.0         50.0                 106.0         209.0   \n",
      "\n",
      "   pr_axis_aspect_ratio  max_length_aspect_ratio  scatter_ratio  \\\n",
      "0                  72.0                     10.0          162.0   \n",
      "1                  57.0                      9.0          149.0   \n",
      "2                  66.0                     10.0          207.0   \n",
      "\n",
      "   elongatedness  pr_axis_rectangularity  max_length_rectangularity  \\\n",
      "0           42.0                    20.0                      159.0   \n",
      "1           45.0                    19.0                      143.0   \n",
      "2           32.0                    23.0                      158.0   \n",
      "\n",
      "   scaled_variance_major_axis  scaled_variance_minor_axis  \\\n",
      "0                       176.0                       379.0   \n",
      "1                       170.0                       330.0   \n",
      "2                       223.0                       635.0   \n",
      "\n",
      "   scaled_radius_gyration  skewness_major_axis  skewness_minor_axis  \\\n",
      "0                   184.0                 70.0                  6.0   \n",
      "1                   158.0                 72.0                  9.0   \n",
      "2                   220.0                 73.0                 14.0   \n",
      "\n",
      "   kurtosis_minor_axis  kurtosis_major_axis  hollows_ratio  \n",
      "0                 16.0                187.0          197.0  \n",
      "1                 14.0                189.0          199.0  \n",
      "2                  9.0                188.0          196.0  \n",
      "0     van\n",
      "1     van\n",
      "2    saab\n",
      "Name: vehicle_class, dtype: object\n"
     ]
    }
   ],
   "source": [
    "print(X.head(3))\n",
    "print(Y.head(3))"
   ]
  },
  {
   "cell_type": "markdown",
   "metadata": {},
   "source": [
    "Comenzamos a construir el modelo indicando que `K-neighbors` sea igual a 1"
   ]
  },
  {
   "cell_type": "code",
   "execution_count": 39,
   "metadata": {},
   "outputs": [],
   "source": [
    "# Modelo\n",
    "from sklearn.model_selection import train_test_split\n",
    "from sklearn.neighbors import KNeighborsClassifier\n",
    "\n",
    "X_train, X_test, Y_train, Y_test = train_test_split(X, Y, test_size=0.3, random_state=45)\n",
    "\n",
    "knn = KNeighborsClassifier(n_neighbors=1)\n",
    "knn.fit(X_train, Y_train)\n",
    "\n",
    "predicciones = knn.predict(X_test)"
   ]
  },
  {
   "cell_type": "code",
   "execution_count": 40,
   "metadata": {},
   "outputs": [
    {
     "data": {
      "text/plain": [
       "array(['saab', 'opel', 'saab', 'opel', 'saab', 'van', 'saab', 'opel',\n",
       "       'saab', 'van', 'opel', 'bus', 'van', 'opel', 'opel', 'van', 'opel',\n",
       "       'saab', 'bus'], dtype=object)"
      ]
     },
     "execution_count": 40,
     "metadata": {},
     "output_type": "execute_result"
    }
   ],
   "source": [
    "predicciones[0:19]"
   ]
  },
  {
   "cell_type": "code",
   "execution_count": 41,
   "metadata": {},
   "outputs": [
    {
     "name": "stdout",
     "output_type": "stream",
     "text": [
      "[[65  0  7  5]\n",
      " [ 7 24 28  6]\n",
      " [ 5 26 23  3]\n",
      " [ 2  0  2 51]]\n"
     ]
    }
   ],
   "source": [
    "# Matriz de confusión y predccion\n",
    "from sklearn.metrics import classification_report, confusion_matrix\n",
    "print(confusion_matrix(Y_test, predicciones))"
   ]
  },
  {
   "cell_type": "code",
   "execution_count": 42,
   "metadata": {},
   "outputs": [
    {
     "name": "stdout",
     "output_type": "stream",
     "text": [
      "              precision    recall  f1-score   support\n",
      "\n",
      "         bus       0.82      0.84      0.83        77\n",
      "        opel       0.48      0.37      0.42        65\n",
      "        saab       0.38      0.40      0.39        57\n",
      "         van       0.78      0.93      0.85        55\n",
      "\n",
      "   micro avg       0.64      0.64      0.64       254\n",
      "   macro avg       0.62      0.64      0.62       254\n",
      "weighted avg       0.63      0.64      0.63       254\n",
      "\n"
     ]
    }
   ],
   "source": [
    "print(classification_report(Y_test, predicciones))"
   ]
  },
  {
   "cell_type": "markdown",
   "metadata": {},
   "source": [
    "Optimización del modelo para `Kn's`"
   ]
  },
  {
   "cell_type": "code",
   "execution_count": 43,
   "metadata": {},
   "outputs": [],
   "source": [
    "tasa_error = [] # lista vacia\n",
    "for i in range(1,30):\n",
    "    knn = KNeighborsClassifier(n_neighbors=i)\n",
    "    knn.fit(X_train, Y_train)\n",
    "    prediccion_i = knn.predict(X_test)\n",
    "    tasa_error.append(np.mean(prediccion_i != Y_test)) # diferencia entre las tasas encontradas \n",
    "    \n",
    "    # la tasa de error mas baja será nuestro K más optimo"
   ]
  },
  {
   "cell_type": "code",
   "execution_count": 44,
   "metadata": {},
   "outputs": [],
   "source": [
    "# tasa_error"
   ]
  },
  {
   "cell_type": "code",
   "execution_count": 45,
   "metadata": {},
   "outputs": [
    {
     "data": {
      "text/plain": [
       "[<matplotlib.lines.Line2D at 0x7ff3100f6358>]"
      ]
     },
     "execution_count": 45,
     "metadata": {},
     "output_type": "execute_result"
    },
    {
     "data": {
      "image/png": "[encoded data removed]",
      "text/plain": [
       "<Figure size 432x288 with 1 Axes>"
      ]
     },
     "metadata": {
      "needs_background": "light"
     },
     "output_type": "display_data"
    }
   ],
   "source": [
    "valores = range(1,30)\n",
    "plt.plot(valores, tasa_error, color='green', marker='o', markerfacecolor='black', markersize='7')"
   ]
  },
  {
   "cell_type": "code",
   "execution_count": 46,
   "metadata": {},
   "outputs": [],
   "source": [
    "# El valor mas optimo es k=3"
   ]
  },
  {
   "cell_type": "code",
   "execution_count": 47,
   "metadata": {},
   "outputs": [
    {
     "name": "stdout",
     "output_type": "stream",
     "text": [
      "              precision    recall  f1-score   support\n",
      "\n",
      "         bus       0.77      0.88      0.82        77\n",
      "        opel       0.58      0.45      0.50        65\n",
      "        saab       0.44      0.39      0.41        57\n",
      "         van       0.82      0.98      0.89        55\n",
      "\n",
      "   micro avg       0.68      0.68      0.68       254\n",
      "   macro avg       0.65      0.67      0.66       254\n",
      "weighted avg       0.66      0.68      0.66       254\n",
      "\n"
     ]
    }
   ],
   "source": [
    "knn = KNeighborsClassifier(n_neighbors=3)\n",
    "knn.fit(X_train, Y_train)\n",
    "prediccion = knn.predict(X_test)\n",
    "print(classification_report(Y_test, prediccion))"
   ]
  },
  {
   "cell_type": "code",
   "execution_count": null,
   "metadata": {},
   "outputs": [],
   "source": []
  }
 ],
 "metadata": {
  "kernelspec": {
   "display_name": "Python 3",
   "language": "python",
   "name": "python3"
  },
  "language_info": {
   "codemirror_mode": {
    "name": "ipython",
    "version": 3
   },
   "file_extension": ".py",
   "mimetype": "text/x-python",
   "name": "python",
   "nbconvert_exporter": "python",
   "pygments_lexer": "ipython3",
   "version": "3.7.3"
  }
 },
 "nbformat": 4,
 "nbformat_minor": 2
}
