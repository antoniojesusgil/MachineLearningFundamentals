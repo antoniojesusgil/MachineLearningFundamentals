{
 "cells": [
  {
   "cell_type": "markdown",
   "metadata": {},
   "source": [
    "<img src=\"../img/crowdlearning-etic.png\" alt=\"Logo ETIC\" align=\"right\">\n",
    "\n",
    "\n",
    "<h1><font color=\"#004D7F\" size=6>Ejercicios Regresión Logística</font></h1>\n",
    "\n",
    "<br>\n",
    "<br>\n",
    "<br>\n",
    "<br>\n",
    "<div style=\"text-align: right\">\n",
    "<font color=\"#004D7F\" size=3>Antonio Jesús Gil</font><br>\n",
    "<font color=\"#004D7F\" size=3>Fundamentos de Machine Learning</font><br>\n",
    "\n",
    "</div>"
   ]
  },
  {
   "cell_type": "markdown",
   "metadata": {},
   "source": [
    "---\n",
    "\n",
    "<a id=\"section1\"></a>\n",
    "# <font color=\"#004D7F\"> 1. Introducción</font>\n",
    "\n",
    "La Regresión Logística es un tipo de análisis de regresión que sirve para predecir el resultado de una variable categórica en función de otras variables.\n",
    "\n",
    "Su utilidad se da el modelar la probabilidad de que un evento pueda ocurrir en función de otros factores. La primera clasificación que estudiaremos será la binaria.\n",
    "\n",
    "\n",
    "Ejemplos binarios:\n",
    "\n",
    "* Clasificar correos electrónicos en spam o no\n",
    "* Identificar enfermedades\n",
    "* Prestamos bancarios\n",
    "\n",
    "La función recoge cualquier valor en el eje X y valores comprendidos entre 0 y 1 en el eje Y. Si el resultado es `>= 0.5` la salida será 1 y si es `=< 0.5` devolverá 0"
   ]
  },
  {
   "cell_type": "markdown",
   "metadata": {},
   "source": [
    "## <font color=\"#004D7F\">Matriz de confusión </font>\n",
    "\n",
    "La matriz de confusión de un problema de clase n en la que las filas se nombran según las clases reales y las columnas según las clases previstas por el modelo. Sirve para mostrar de forma explícita cuándo una clase es confundida con otra. Nos permite trabajar de forma separada con distintos tipos de error.\n",
    "En un modelo binario, podemos considerar dos clases: “Positiva” y “Negativa”."
   ]
  },
  {
   "cell_type": "markdown",
   "metadata": {},
   "source": [
    "Cada cuadrante significa:\n",
    "\n",
    "• 0 / 0 es el número de predicciones correctas de clase negativa (abandonos)\n",
    "\n",
    "• 0 / 1 es el número de predicciones incorrectas de clase positiva (falsos positivos, o intentos de abandono que no se han dado)\n",
    "\n",
    "• 1 / 0 es el número de predicciones incorrectas de clase negativa (falsos negativos, abandonos no controlados)  \n",
    "\n",
    "• 1 / 1 es el número de predicciones correctas de clase positiva (no abandonos)\n",
    "\n",
    "Resumiendo, el resultado nos da 890+13 predicciones correctas y 121+17 predicciones incorrectas.\n",
    "\n",
    "La precision sirve para obtener la probabilidad de acierto en la predicción\n",
    "\n",
    "- Precisión = (Positivos correctos + Negativos correctos) / Total\n",
    "- Tasa de error = (Falsos positivos + Falsos negativos) / Total"
   ]
  },
  {
   "cell_type": "markdown",
   "metadata": {},
   "source": [
    "## <font color=\"#004D7F\"> <i class=\"fa fa-pencil-square-o\" aria-hidden=\"true\" style=\"color:#113D68\"></i> Ejercicio 1:  Predicción sobre cancer Wisconsin</font> \n",
    "\n",
    "Se pide:\n",
    "\n",
    "1. Obtener un mapa de calor con las correlaciones entre variables\n",
    "2. Entrenar el modelo \n",
    "2. Dividir el conjunto de datos en un 80/20 \n",
    "3. Evaluar el modelo\n",
    "4. Matriz de confusión"
   ]
  },
  {
   "cell_type": "code",
   "execution_count": null,
   "metadata": {},
   "outputs": [],
   "source": [
    "import numpy as np\n",
    "import pandas as pd\n",
    "import matplotlib.pyplot as plt\n",
    "from matplotlib.colors import ListedColormap\n",
    "import seaborn as sns\n",
    "%matplotlib inline"
   ]
  },
  {
   "cell_type": "code",
   "execution_count": null,
   "metadata": {},
   "outputs": [],
   "source": [
    "import sklearn.datasets\n",
    "wisconsin = sklearn.datasets.load_breast_cancer()\n",
    "wisconsin.keys()"
   ]
  },
  {
   "cell_type": "code",
   "execution_count": null,
   "metadata": {},
   "outputs": [],
   "source": [
    "wisconsin_data = wisconsin['data']\n",
    "wisconsin_target = wisconsin['target']"
   ]
  },
  {
   "cell_type": "markdown",
   "metadata": {},
   "source": [
    "### <font color=\"#004D7F\"> Entrenar el modelo</font>\n",
    "\n",
    "Para ello dividiremos el conjunto en datos de prueba `test` y datos de entrenamiento `fit`\n",
    "\n",
    "El eje X contendrá todas las columnas características y el eje Y contendrá el target de salida."
   ]
  },
  {
   "cell_type": "code",
   "execution_count": null,
   "metadata": {},
   "outputs": [],
   "source": [
    "from sklearn.model_selection import train_test_split\n",
    "X = wisconsin_data\n",
    "y = wisconsin_target\n",
    "X_train, X_test, Y_train, Y_test = train_test_split(X, y, test_size=0.2, random_state=50)"
   ]
  },
  {
   "cell_type": "markdown",
   "metadata": {},
   "source": [
    "from sklearn.model_selection import train_test_split\n",
    "X_train, X_test, Y_train, Y_test = train_test_split(X, y, test_size=0.3, random_state=11)\n",
    "model.fit(X_train, Y_train)\n",
    "acc = model.score(X_test,Y_test)"
   ]
  },
  {
   "cell_type": "code",
   "execution_count": null,
   "metadata": {},
   "outputs": [],
   "source": [
    "X_train[0:1]"
   ]
  },
  {
   "cell_type": "code",
   "execution_count": null,
   "metadata": {},
   "outputs": [],
   "source": [
    "Y_train[0:5]"
   ]
  },
  {
   "cell_type": "code",
   "execution_count": null,
   "metadata": {},
   "outputs": [],
   "source": [
    "from sklearn.linear_model import LogisticRegression\n",
    "model = LogisticRegression()\n",
    "model.fit(X_train, Y_train)"
   ]
  },
  {
   "cell_type": "markdown",
   "metadata": {},
   "source": [
    "### <font color=\"#004D7F\">Evaluar el modelo</font>\n",
    "\n",
    "Usamos el metodo `predict` a partir de lo aprendido en la función `fit`, esta función tomará como entrada nuevos casos y obtendrá una predicción para ellos.\n",
    "\n",
    "prediction = our_predictor.predict(data)\n",
    "\n",
    "#### <font color=\"#004D7F\">Accuracy</font>\t\n",
    "Aquellos algoritmos capaces de dar un valor de lo bien o mal que se ajusta su entrenamiento ante nuevos datos de entrada sobre los que se conoce su salida pueden implementar una función `score`. Valores como la __tasa de aciertos__ o la __matriz de confusión__ son algunos de los scores más utilizados para medir el rendimiento de los algoritmos.\n",
    "    \n",
    "    score = obj.score(data, target)\n"
   ]
  },
  {
   "cell_type": "code",
   "execution_count": null,
   "metadata": {},
   "outputs": [],
   "source": [
    "prediction = model.predict(X_test)\n",
    "print('Tasa de acierto o accuracy clasificador en el entorno de test: {:.2f}'.format(model.score(X_test, Y_test)))"
   ]
  },
  {
   "cell_type": "code",
   "execution_count": null,
   "metadata": {},
   "outputs": [],
   "source": [
    "prediction[0:4]"
   ]
  },
  {
   "cell_type": "markdown",
   "metadata": {},
   "source": [
    "#### <font color=\"#004D7F\">Informe de clasificación y Matriz de confusión</font>"
   ]
  },
  {
   "cell_type": "code",
   "execution_count": null,
   "metadata": {},
   "outputs": [],
   "source": [
    "# precision del modelo mediante metricas\n",
    "from sklearn.metrics import classification_report\n",
    "print(classification_report(Y_test, prediction))"
   ]
  },
  {
   "cell_type": "code",
   "execution_count": null,
   "metadata": {},
   "outputs": [],
   "source": [
    "# Matriz de confusion\n",
    "from sklearn.metrics import confusion_matrix\n",
    "confusion_matrix(Y_test, prediction)"
   ]
  },
  {
   "cell_type": "code",
   "execution_count": null,
   "metadata": {},
   "outputs": [],
   "source": [
    "y_actu = pd.Series(Y_test, name='Actual')\n",
    "y_pred = pd.Series(prediction, name='Predicción')\n",
    "df_confusion = pd.crosstab(y_actu, y_pred)"
   ]
  },
  {
   "cell_type": "code",
   "execution_count": null,
   "metadata": {},
   "outputs": [],
   "source": [
    "df_confusion"
   ]
  },
  {
   "cell_type": "code",
   "execution_count": null,
   "metadata": {},
   "outputs": [],
   "source": [
    "df_confusion2 = pd.crosstab(y_actu, y_pred, rownames=['Actual'], colnames=['Predicción'], margins=True)\n",
    "df_confusion2"
   ]
  },
  {
   "cell_type": "code",
   "execution_count": null,
   "metadata": {},
   "outputs": [],
   "source": [
    "plt.figure(figsize = (10,7))\n",
    "sns.set(font_scale=1.2)#for label size \n",
    "sns.heatmap(df_confusion, annot=True, annot_kws={\"size\": 14})\n",
    "title = 'Matriz de Confusión sobre Regresión Logística'\n",
    "plt.title(title);"
   ]
  },
  {
   "cell_type": "markdown",
   "metadata": {},
   "source": [
    "#### <font color=\"#004D7F\">Repite el algoritmo utilizando un conjunto de entrenamiento y test de 70/30. Compara los resultados</font>"
   ]
  },
  {
   "cell_type": "code",
   "execution_count": null,
   "metadata": {},
   "outputs": [],
   "source": []
  },
  {
   "cell_type": "markdown",
   "metadata": {},
   "source": [
    "## <font color=\"#004D7F\"> <i class=\"fa fa-pencil-square-o\" aria-hidden=\"true\" style=\"color:#113D68\"></i> Ejercicio 2:  Análisis de datos en <i>Marketing</i></font> \n",
    "\n",
    "La prevención del abandono, o Churn prevention, consiste en actuar sobre aquellos clientes que son propensos a abandonar un determinado servicio o producto. La detección de estos clientes permite llevar a cabo campañas específicas de retención, o analizar las características de éstos de cara a establecer planes de acción concretos.\n",
    "\n",
    "Este ejercicio trata de analizar un conjunto de datos relativos al abandono de clientes. Debido a que la clase es binaria (si el cliente abandona o no) es posible implementar un modelo de regresión logística. \n",
    "\n",
    "El objetivo final consiste en elaborar un modelo de detección del abandono. Estos pasos pueden servir de orientación en el desarrollo:\n",
    "\n",
    "- En este caso, se parte de un solo conjunto de datos, que se debe dividir en una partición de entrenamiento y otra de test, que se utilizará para validar.\n",
    "\n",
    "- Como paso previo, es puede ser interesante explorar la distribución de la clase. Para ello, puede hacerse, por ejemplo, un gráfico de barras.\n",
    "\n",
    "- Por último, habría que reportar el rendimiento (en acierto y coste) sobre el conjunto de test.\n",
    "\n",
    "Para la realización del ejercicio, se proporciona un conjunto de datos, denominado, `datos/churn/customerChurnAnalysisModified.csv`, relativo al abandono en una operadora de telecomunicaciones. "
   ]
  },
  {
   "cell_type": "code",
   "execution_count": null,
   "metadata": {},
   "outputs": [],
   "source": [
    "# ToDo"
   ]
  }
 ],
 "metadata": {
  "kernelspec": {
   "display_name": "Python 3",
   "language": "python",
   "name": "python3"
  },
  "language_info": {
   "codemirror_mode": {
    "name": "ipython",
    "version": 3
   },
   "file_extension": ".py",
   "mimetype": "text/x-python",
   "name": "python",
   "nbconvert_exporter": "python",
   "pygments_lexer": "ipython3",
   "version": "3.7.3"
  }
 },
 "nbformat": 4,
 "nbformat_minor": 2
}
