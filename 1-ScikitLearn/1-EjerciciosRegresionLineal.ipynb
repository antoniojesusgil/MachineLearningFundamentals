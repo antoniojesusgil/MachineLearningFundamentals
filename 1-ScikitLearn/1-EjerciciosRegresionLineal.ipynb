{
 "cells": [
  {
   "cell_type": "markdown",
   "metadata": {},
   "source": [
    "<img src=\"../img/crowdlearning-etic.png\" alt=\"Logo ETIC\" align=\"right\">\n",
    "\n",
    "\n",
    "<h1><font color=\"#004D7F\" size=6>Ejercicios Regresión Lineal</font></h1>\n",
    "\n",
    "<br>\n",
    "<br>\n",
    "<br>\n",
    "<br>\n",
    "<div style=\"text-align: right\">\n",
    "<font color=\"#004D7F\" size=3>Antonio Jesús Gil</font><br>\n",
    "<font color=\"#004D7F\" size=3>Fundamentos de Machine Learning</font><br>\n",
    "\n",
    "</div>"
   ]
  },
  {
   "cell_type": "markdown",
   "metadata": {},
   "source": [
    "# <font color=\"#004D7F\"> Regresión/Clasificación con SciKit Learn</font>\n",
    "\n",
    "El objetivo de un modelo de regresión es tratar de explicar la relación que existe entre una variable dependiente `Y` (variable respuesta) Y un conjunto de variables independientes (variables explicativas) `X1,..., Xn`.\n",
    "\n",
    "En SciKit Learn, existen muchos de los algoritmos más utilizados ya vienen implementados, cómo la regresión lineal y la regresión logística. Todos los algoritmos de predicción implementan dos funciones: `fit` y `predict`.\n",
    "\n",
    "\n",
    "Entonces:\n",
    "\n",
    "1. Importar dataset\n",
    "2. Inicializar parámetros\n",
    "3. Dividir el conjunto en datos\n",
    "4. Predecir valores\n",
    "5. Evaluar el modelo\n"
   ]
  },
  {
   "cell_type": "markdown",
   "metadata": {},
   "source": [
    "## <font color=\"#004D7F\"> <i class=\"fa fa-pencil-square-o\" aria-hidden=\"true\" style=\"color:#113D68\"></i> Ejercicio 1: Algoritmo para predecir el precio de la vivienda en USA</font> \n",
    "\n",
    "Nuestro primer algoritmo Machine Learning será una regresión lineal. El ejercicio consiste en crear un modelo y predecir el precio de las viviendas en USA.\n",
    "\n",
    "Pasos previos:\n",
    "\n",
    "1. Descargar el dataset de [kaggle](https://www.kaggle.com/aariyan101/usa-housingcsv) y lo cargamos.\n",
    "2. Observar el conjunto de datos\n",
    "3. Mediante seaborn mostraremos la distribución del precio y un mapa de calor con la correlación del resto de variables."
   ]
  },
  {
   "cell_type": "code",
   "execution_count": null,
   "metadata": {},
   "outputs": [],
   "source": [
    "import pandas as pd\n",
    "import numpy as np\n",
    "import matplotlib.pyplot as plt\n",
    "import seaborn as sns"
   ]
  },
  {
   "cell_type": "code",
   "execution_count": null,
   "metadata": {},
   "outputs": [],
   "source": [
    "housing = pd.read_csv('USA_housing.csv')"
   ]
  },
  {
   "cell_type": "code",
   "execution_count": null,
   "metadata": {},
   "outputs": [],
   "source": [
    "print(housing.shape)\n",
    "housing.head(5)"
   ]
  },
  {
   "cell_type": "code",
   "execution_count": null,
   "metadata": {},
   "outputs": [],
   "source": [
    "# Información adicional del dataframe\n",
    "#housing.info()\n",
    "#housing.describe()"
   ]
  },
  {
   "cell_type": "markdown",
   "metadata": {},
   "source": [
    "### <font color=\"#004D7F\"> Gráficas interesantes"
   ]
  },
  {
   "cell_type": "code",
   "execution_count": null,
   "metadata": {},
   "outputs": [],
   "source": [
    "# Distribución de la variable target 'Price'\n",
    "\n",
    "# sns.distplot(housing['Price'])"
   ]
  },
  {
   "cell_type": "code",
   "execution_count": null,
   "metadata": {},
   "outputs": [],
   "source": [
    "# Relación entre el precio y la media de Ingresos\n",
    "\n",
    "# sns.jointplot(x=housing['Price'], y=housing['Avg. Area Income'], kind='kde');"
   ]
  },
  {
   "cell_type": "code",
   "execution_count": null,
   "metadata": {},
   "outputs": [],
   "source": [
    "# Matriz de correlación entre variables\n",
    "\n",
    "# sns.heatmap(housing.corr(), annot=True)"
   ]
  },
  {
   "cell_type": "markdown",
   "metadata": {},
   "source": [
    "### <font color=\"#004D7F\"> Entrenar el modelo</font>\n",
    "\n",
    "Para ello dividiremos el conjunto en datos de prueba `test` y datos de entrenamiento `fit`\n",
    "\n",
    "El eje X contendrá todas las columnas características y el eje Y contendrá el target de salida."
   ]
  },
  {
   "cell_type": "code",
   "execution_count": null,
   "metadata": {},
   "outputs": [],
   "source": [
    "from sklearn.linear_model import LinearRegression\n",
    "from sklearn.model_selection import train_test_split"
   ]
  },
  {
   "cell_type": "code",
   "execution_count": null,
   "metadata": {},
   "outputs": [],
   "source": [
    "# Hemos de identificar las columnas para el eje X y para el eje Y\n",
    "# housing.columns\n",
    "X = housing[['Avg. Area Income', 'Avg. Area House Age', 'Avg. Area Number of Rooms',\n",
    "       'Avg. Area Number of Bedrooms', 'Area Population']]\n",
    "Y = housing['Price']"
   ]
  },
  {
   "cell_type": "markdown",
   "metadata": {},
   "source": [
    "Crear las variables para dividir en datos de entrenamiento 70% y prueba 30% restante. En este ejercicio utilizaremos una semilla aleatoria, `random_state` aceptada en la función de split.\n",
    "\n",
    "Más información:\n",
    "https://scikit-learn.org/stable/modules/classes.html#module-sklearn.model_selection"
   ]
  },
  {
   "cell_type": "code",
   "execution_count": null,
   "metadata": {},
   "outputs": [],
   "source": [
    "X_train, X_test, Y_train, Y_test = train_test_split(X, Y, test_size=0.3, random_state=42)"
   ]
  },
  {
   "cell_type": "code",
   "execution_count": null,
   "metadata": {},
   "outputs": [],
   "source": [
    "# Entrenar el modelo mediante el metodo fit\n",
    "# Recordemos que son nuestros data y target\n",
    "lrm = LinearRegression()\n",
    "lrm.fit(X_train, Y_train)"
   ]
  },
  {
   "cell_type": "markdown",
   "metadata": {},
   "source": [
    "### <font color=\"#004D7F\">Evaluar el modelo</font>\n",
    "\n",
    "Usamos el metodo `predict` a partir de lo aprendido en la función fit, esta función tomará como entrada nuevos casos y obtendrá una predicción para ellos.\n",
    "\n",
    "prediction = our_predictor.predict(data)\n",
    "\n",
    "#### <font color=\"#004D7F\">Accuracy</font>\t\n",
    "Aquellos algoritmos capaces de dar un valor de lo bien o mal que se ajusta su entrenamiento ante nuevos datos de entrada sobre los que se conoce su salida pueden implementar una función `score`. Valores como la __tasa de aciertos__ o la __matriz de confusión__ son algunos de los scores más utilizados para medir el rendimiento de los algoritmos.\n",
    "    \n",
    "    score = obj.score(data, target)"
   ]
  },
  {
   "cell_type": "code",
   "execution_count": null,
   "metadata": {},
   "outputs": [],
   "source": [
    "# pasamos como parámetros las caracteristicas de pruebas y genera las predicciones\n",
    "Y_pred = lrm.predict(X_test)\n",
    "print('Tasa de acierto en el entorno de test: {:.2f}'.format(lrm.score(X_test, Y_test)))"
   ]
  },
  {
   "cell_type": "markdown",
   "metadata": {},
   "source": [
    "#### <font color=\"#004D7F\">Obtener los errores</font>\n",
    "Podemos comparar los datos predecidos con distintos calculos de errores, error cuadrático medio, error media absoluta y el coeficiente de determinación, R2. También conocido como el coeficiente de correlación de Pearson."
   ]
  },
  {
   "cell_type": "code",
   "execution_count": null,
   "metadata": {},
   "outputs": [],
   "source": [
    "from sklearn.metrics import mean_squared_error, r2_score, mean_absolute_error\n",
    "\n",
    "# Mean squared error:\n",
    "print(\"Mean squared error: %.1f\" % mean_squared_error(Y_test,Y_pred))\n",
    "\n",
    "# R2 score:\n",
    "print('R2 Score: %.2f' % r2_score(Y_test,Y_pred))\n",
    "\n",
    "# Mean absolute error:\n",
    "print('Mean absolute error: %.2f' % mean_absolute_error(Y_test,Y_pred))"
   ]
  },
  {
   "cell_type": "markdown",
   "metadata": {},
   "source": [
    "#### <font color=\"#004D7F\">Diferencia entre precios actuales y predecidos</font>\n",
    "\n",
    "Los datos predecidos deben ser comparados con el precio real para disponer de una aproximación al modelo o si por el contrario hemos de reajustar.\n",
    "\n",
    "* Calcular la diferencia entre los precios `Y_test` menos `Y_pred`\n",
    "\n",
    "Hay que tener en cuenta que `Y_pred`es una Serie y `Y_test` es un NDArray. Al lector se deja la posibilidad de ser convertidos en dataframes para su tratamiento."
   ]
  },
  {
   "cell_type": "code",
   "execution_count": null,
   "metadata": {},
   "outputs": [],
   "source": [
    "# Comparamos el valor actual con el predecido:\n",
    "\n",
    "df = pd.DataFrame({'Actual': Y_test, 'Predecido': Y_pred.flatten()})\n",
    "df.head(5)"
   ]
  },
  {
   "cell_type": "code",
   "execution_count": null,
   "metadata": {},
   "outputs": [],
   "source": [
    "df2 = pd.DataFrame({'Actual': Y_test, 'Predecido': Y_pred, 'Diferencia':abs(Y_test - Y_pred)})\n",
    "df2.head(5)"
   ]
  },
  {
   "cell_type": "markdown",
   "metadata": {},
   "source": [
    "### <font color=\"#004D7F\"> Gráficas interesantes"
   ]
  },
  {
   "cell_type": "code",
   "execution_count": null,
   "metadata": {},
   "outputs": [],
   "source": [
    "# Gráfico para ver las diferencias de tipo scatter\n",
    "# El error se acerca mucho a la distribución normal.\n",
    "# sns.distplot(Y_test - Y_pred)\n",
    "# plt.scatter(Y_test, Y_pred)\n",
    "# sns.jointplot(x=Y_test, y=housing_pred, kind='kde');"
   ]
  },
  {
   "cell_type": "code",
   "execution_count": null,
   "metadata": {},
   "outputs": [],
   "source": [
    "#plt.scatter(X_test, Y_test,  color='gray')\n",
    "#plt.plot(X_test, Y_pred, color='red', linewidth=2)\n",
    "#plt.show()"
   ]
  },
  {
   "cell_type": "markdown",
   "metadata": {},
   "source": [
    "## <font color=\"#004D7F\"> <i class=\"fa fa-pencil-square-o\" aria-hidden=\"true\" style=\"color:#113D68\"></i> Ejercicio 2: Boston</font> \n",
    "\n",
    "La base de datos boston es un dicionario que contiene gran cantidad de datos relacionados con la ciudad, entre otras variables disponemos:\n",
    "\n",
    "* CRIM: crime rate per capita\n",
    "* ZN: proportion of residential land zoned\n",
    "* INDUS: proportion of non-retail business acres\n",
    "* CHAS: binary variable. 1 for tract bounds river and 0 otherwise\n",
    "* NOX: nitric oxides concentration\n",
    "* RM: average number of rooms\n",
    "* AGE: owner occupied units\n",
    "* DIS: weighted distance to employment centers.\n",
    "* RAD: index of accessibility\n",
    "* TAX: full value property tax rate\n",
    "* PTRATIO: pupil-teacher ratio\n",
    "* B: proportion of blacks\n",
    "* LSTAT: lower status of population\n",
    "* MEDV: owner occupied homes\n",
    "\n",
    "Recordar que la variable target se encuentra en `boston_target`.\n",
    "\n",
    "Se pide:\n",
    "\n",
    "1. Obtener un mapa de calor con las correlaciones entre variables\n",
    "2. Entrenar el modelo \n",
    "2. Dividir el conjunto de datos en un 80/20 \n",
    "3. Evaluar el modelo y dar una tasa de acierto\n",
    "4. Obtener los errores"
   ]
  },
  {
   "cell_type": "code",
   "execution_count": null,
   "metadata": {},
   "outputs": [],
   "source": []
  }
 ],
 "metadata": {
  "kernelspec": {
   "display_name": "Python 3",
   "language": "python",
   "name": "python3"
  },
  "language_info": {
   "codemirror_mode": {
    "name": "ipython",
    "version": 3
   },
   "file_extension": ".py",
   "mimetype": "text/x-python",
   "name": "python",
   "nbconvert_exporter": "python",
   "pygments_lexer": "ipython3",
   "version": "3.7.3"
  }
 },
 "nbformat": 4,
 "nbformat_minor": 2
}
