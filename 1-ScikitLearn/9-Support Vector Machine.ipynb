{
 "cells": [
  {
   "cell_type": "markdown",
   "metadata": {},
   "source": [
    "<img src=\"../img/crowdlearning-etic.png\" alt=\"Logo ETIC\" align=\"right\">\n",
    "\n",
    "\n",
    "<h1><font color=\"#004D7F\" size=6>Support Vector Machine</font></h1>\n",
    "\n",
    "<br>\n",
    "<br>\n",
    "<br>\n",
    "<br>\n",
    "<div style=\"text-align: right\">\n",
    "<font color=\"#004D7F\" size=3>Antonio Jesús Gil</font><br>\n",
    "<font color=\"#004D7F\" size=3>Fundamentos de Machine Learning</font><br>\n",
    "\n",
    "</div>"
   ]
  },
  {
   "cell_type": "markdown",
   "metadata": {},
   "source": [
    "En general, __Support Vector Machines__ se consideran dentro de un enfoque de clasificación supervisada, pero puede emplearse en ambos tipos de problemas de clasificación y regresión. Puede manejar fácilmente múltiples variables, tanto continuas como categóricas.\n",
    "\n",
    "Las __SVM__ resuelven problemas tanto de clasificación como de regresión.\n",
    "\n",
    "Los puntos de muestra son representados en el espacio y las clases son separadas mediante planos. \n",
    "SVM construye un hiperplano en un espacio multidimensional para separar diferentes clases. Este hiperplano es utilizado para minimizar el error.\n",
    "\n",
    "La idea central de SVM es encontrar un hiperplano marginal máximo (MMH) que divida mejor el conjunto de datos en clases.\n",
    "\n",
    "\n",
    "### <font color=\"#004D7F\"> ¿Cómo funcioona SVM? </font>\n",
    "\n",
    "El objetivo principal es segregar el conjunto de datos dado de la mejor manera posible. La distancia entre los puntos más cercanos se conoce como _margen_. El objetivo es seleccionar un hiperplano con el margen máximo posible entre los vectores de soporte en el conjunto de datos dado. SVM busca el hiperplano marginal máximo en los siguientes pasos:\n",
    "\n",
    "1. Generar hiperplanos que segregan las clases de la mejor manera. Figura izquierda.\n",
    "\n",
    "2. Selección del hiperplano derecho con la segregación máxima de los puntos de datos más cercanos. Figura derecha.\n",
    "\n",
    "<img src=\"../img/svm.png\" height=\"400\" width=\"400\">"
   ]
  },
  {
   "cell_type": "markdown",
   "metadata": {},
   "source": [
    "- Ventajas:\n",
    "Los clasificadores SVM ofrecen una buena precisión y realizan predicciones más rápidas en comparación con otros algoritmos, en concreto Naïve Bayes. También usan menos memoria al utilizar un subconjunto de puntos de entrenamiento en la fase de decisión. SVM funciona bien con un claro margen de separación y con un gran espacio dimensional.\n",
    "\n",
    "- Desventajas:\n",
    "SVM no es adecuado para grandes conjuntos de datos debido a su alto tiempo de entrenamiento. Funciona mal con clases superpuestas y también es sensible al tipo de kernel utilizado.\n",
    "\n",
    "\n",
    "### <font color=\"#004D7F\"> Ejercicio SVM </font>\n",
    "\n",
    "Para este ejercicio utlizaremos una base de datos denominada Iris que contiene variables caracteristicas que identifica especies de flores"
   ]
  },
  {
   "cell_type": "code",
   "execution_count": null,
   "metadata": {},
   "outputs": [],
   "source": [
    "import pandas as pd\n",
    "import matplotlib.pyplot as plt\n",
    "import numpy as np\n",
    "import seaborn as sns"
   ]
  },
  {
   "cell_type": "code",
   "execution_count": null,
   "metadata": {},
   "outputs": [],
   "source": [
    " iris = sns.load_dataset('iris')"
   ]
  },
  {
   "cell_type": "code",
   "execution_count": null,
   "metadata": {},
   "outputs": [],
   "source": [
    "iris.head()"
   ]
  },
  {
   "cell_type": "code",
   "execution_count": null,
   "metadata": {},
   "outputs": [],
   "source": [
    "iris['species'].unique()"
   ]
  },
  {
   "cell_type": "code",
   "execution_count": null,
   "metadata": {},
   "outputs": [],
   "source": [
    "#division por especies y relación entre ellas\n",
    "sns.pairplot(iris, hue='species')"
   ]
  },
  {
   "cell_type": "code",
   "execution_count": null,
   "metadata": {},
   "outputs": [],
   "source": [
    "# Construcción del algoritmo\n",
    "from sklearn.model_selection import train_test_split\n",
    "from sklearn.svm import SVC\n",
    "\n",
    "X = iris.drop('species', axis=1)\n",
    "Y = iris['species']\n",
    "\n",
    "X_train, X_test, Y_train, Y_test = train_test_split(X, Y, test_size=0.3) # Ejercicio, validacion cruzada\n",
    "\n",
    "modelo = SVC(gamma='auto') #C -> Clasificación\n",
    "modelo.fit(X_train, Y_train)\n",
    "\n",
    "predicciones = modelo.predict(X_test)"
   ]
  },
  {
   "cell_type": "code",
   "execution_count": null,
   "metadata": {},
   "outputs": [],
   "source": [
    "predicciones"
   ]
  },
  {
   "cell_type": "code",
   "execution_count": null,
   "metadata": {},
   "outputs": [],
   "source": [
    "from sklearn.metrics import classification_report, confusion_matrix\n",
    "print(classification_report(Y_test, predicciones))"
   ]
  },
  {
   "cell_type": "code",
   "execution_count": null,
   "metadata": {},
   "outputs": [],
   "source": [
    "print(confusion_matrix(Y_test, predicciones))"
   ]
  },
  {
   "cell_type": "markdown",
   "metadata": {},
   "source": [
    "### <font color=\"#004D7F\"> <i class=\"fa fa-pencil-square-o\" aria-hidden=\"true\" style=\"color:#113D68\"></i> Ejercicio 1:  Predicción sobre cancer Wisconsin</font> \n",
    "\n",
    "Se pide:\n",
    "\n",
    "1. Obtener un mapa de calor con las correlaciones entre variables\n",
    "2. Entrenar el modelo utilizando SVM y un kernel 'linear'\n",
    "2. Holdout 70/30 y una semilla de 109\n",
    "3. Evaluar el modelo\n",
    "4. Matriz de confusión"
   ]
  },
  {
   "cell_type": "code",
   "execution_count": null,
   "metadata": {},
   "outputs": [],
   "source": []
  }
 ],
 "metadata": {
  "kernelspec": {
   "display_name": "Python 3",
   "language": "python",
   "name": "python3"
  },
  "language_info": {
   "codemirror_mode": {
    "name": "ipython",
    "version": 3
   },
   "file_extension": ".py",
   "mimetype": "text/x-python",
   "name": "python",
   "nbconvert_exporter": "python",
   "pygments_lexer": "ipython3",
   "version": "3.7.3"
  }
 },
 "nbformat": 4,
 "nbformat_minor": 2
}
