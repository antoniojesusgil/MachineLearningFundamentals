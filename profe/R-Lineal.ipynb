{
 "cells": [
  {
   "cell_type": "markdown",
   "metadata": {},
   "source": [
    "### <font color=\"#004D7F\"> Housing: Obtener datos</font>"
   ]
  },
  {
   "cell_type": "code",
   "execution_count": null,
   "metadata": {},
   "outputs": [],
   "source": [
    "import pandas as pd\n",
    "import numpy as np\n",
    "import matplotlib.pyplot as plt\n",
    "import seaborn as sns"
   ]
  },
  {
   "cell_type": "code",
   "execution_count": null,
   "metadata": {},
   "outputs": [],
   "source": [
    "housing = pd.read_csv('../1-ScikitLearn/USA_Housing.csv')"
   ]
  },
  {
   "cell_type": "code",
   "execution_count": null,
   "metadata": {},
   "outputs": [],
   "source": [
    "print(housing.shape)\n",
    "housing.head(5)\n",
    "housing.info()\n",
    "housing.describe()"
   ]
  },
  {
   "cell_type": "code",
   "execution_count": null,
   "metadata": {},
   "outputs": [],
   "source": [
    "# Analysis on Each Pair of Features\n",
    "# sns.pairplot(housing)\n",
    "sns.distplot(housing['Price'])"
   ]
  },
  {
   "cell_type": "code",
   "execution_count": null,
   "metadata": {},
   "outputs": [],
   "source": [
    "sns.jointplot(x=housing['Price'], y=housing['Avg. Area Income'], kind='kde');"
   ]
  },
  {
   "cell_type": "code",
   "execution_count": null,
   "metadata": {},
   "outputs": [],
   "source": [
    "sns.heatmap(housing.corr(), annot=True)"
   ]
  },
  {
   "cell_type": "markdown",
   "metadata": {},
   "source": [
    "### <font color=\"#004D7F\"> Housing: Entrenar el modelo</font>\n",
    "\n",
    "Para ello dividiremos el conjunto en datos de prueba `test` y datos de entrenamiento `fit`\n",
    "\n",
    "El eje X contendrá todas las columnas características y el eje Y contendrá el target de salida."
   ]
  },
  {
   "cell_type": "code",
   "execution_count": null,
   "metadata": {},
   "outputs": [],
   "source": [
    "from sklearn.model_selection import train_test_split\n",
    "from sklearn.linear_model import LinearRegression"
   ]
  },
  {
   "cell_type": "code",
   "execution_count": null,
   "metadata": {},
   "outputs": [],
   "source": [
    "X = housing[['Avg. Area Income', 'Avg. Area House Age', 'Avg. Area Number of Rooms',\n",
    "       'Avg. Area Number of Bedrooms', 'Area Population']]\n",
    "Y = housing['Price']"
   ]
  },
  {
   "cell_type": "code",
   "execution_count": null,
   "metadata": {},
   "outputs": [],
   "source": [
    "# crear las variables para dividir en datos de entrenamiento y prueba\n",
    "# Y_test nos servira para evaluar el model\n",
    "X_train, X_test, Y_train, Y_test = train_test_split(X, Y, test_size=0.3, random_state=42)"
   ]
  },
  {
   "cell_type": "code",
   "execution_count": null,
   "metadata": {},
   "outputs": [],
   "source": [
    "print(\"datos de entrenamiento caracteristicas, eje X\\n\", X_train.head(3))\n",
    "print(\"datos de test caracteristicas, eje X\\n\", X_test.head(3))\n",
    "print(\"datos de entrenamiento target, eje Y\\n\", Y_train.head(3))\n",
    "print(\"\\ndatos de test, eje Y\\n\", Y_test.head(3))"
   ]
  },
  {
   "cell_type": "code",
   "execution_count": null,
   "metadata": {},
   "outputs": [],
   "source": [
    "# Entrenar el modelo mediante el metodo fit usando una variable que sera una instancia de \n",
    "lrm = LinearRegression()\n",
    "lrm.fit(X_train, Y_train)"
   ]
  },
  {
   "cell_type": "markdown",
   "metadata": {},
   "source": [
    "### <font color=\"#004D7F\"> Housing: Evaluar el modelo</font>\n",
    "\n",
    "Usamos el metodo `predict`"
   ]
  },
  {
   "cell_type": "code",
   "execution_count": null,
   "metadata": {},
   "outputs": [],
   "source": [
    "from sklearn import metrics\n",
    "# pasamos como parámetros las caracteristicas de pruebas y genera las predicciones\n",
    "housing_pred = lrm.predict(X_test)"
   ]
  },
  {
   "cell_type": "markdown",
   "metadata": {},
   "source": [
    "Los datos predecidos deben ser comparados con el precio real para disponer de una aproximación al modelo o si por el contrario hemos de reajustar.\n",
    "\n",
    "* Calcular la diferencia entre los precios `Y_test` menos `housing_pred`\n",
    "\n",
    "Hay que tener en cuenta que `housing_predict`es una lista y `Y_test` es un NDArray"
   ]
  },
  {
   "cell_type": "code",
   "execution_count": null,
   "metadata": {},
   "outputs": [],
   "source": [
    "print(\"Predicción sobre los datos de test , eje X\\n\", housing_pred[0:3])\n",
    "housing_pred.dtype"
   ]
  },
  {
   "cell_type": "code",
   "execution_count": null,
   "metadata": {},
   "outputs": [],
   "source": [
    "# La diferecia entre los precios es el error: Y_test - housing_pred\n",
    "print(\"\\n datos de test, eje Y \\n\", Y_test.head(3))\n",
    "Y_test.dtype"
   ]
  },
  {
   "cell_type": "code",
   "execution_count": null,
   "metadata": {},
   "outputs": [],
   "source": [
    "# Gráfico para ver las diferencias de tipo scatter\n",
    "plt.scatter(Y_test, housing_pred)"
   ]
  },
  {
   "cell_type": "code",
   "execution_count": null,
   "metadata": {},
   "outputs": [],
   "source": [
    "sns.jointplot(x=Y_test, y=housing_pred, kind='kde');"
   ]
  },
  {
   "cell_type": "code",
   "execution_count": null,
   "metadata": {},
   "outputs": [],
   "source": [
    "sns.distplot(Y_test - housing_pred)\n",
    "# El error se acerca mucho a la distribución normal."
   ]
  },
  {
   "cell_type": "code",
   "execution_count": null,
   "metadata": {},
   "outputs": [],
   "source": [
    "# Metricas para evaluar el modelo\n",
    "#1. MAE -> Mean absolute error, la media del valor absoluto de los errores\n",
    "# 2. MSE -> media de los errores al cuadrado\n",
    "# 3. RMSE -> raiz cuadrada de los errores al cuadrado\n",
    "metrics.mean_absolute_error(Y_test, housing_pred) # cuanto más bajo sea el valor, mejor es el modelo\n",
    "print(\"Mean absolute error: %.1f\" % metrics.mean_absolute_error(Y_test, housing_pred))"
   ]
  },
  {
   "cell_type": "code",
   "execution_count": null,
   "metadata": {},
   "outputs": [],
   "source": [
    "metrics.mean_squared_error(Y_test, housing_pred) "
   ]
  },
  {
   "cell_type": "code",
   "execution_count": null,
   "metadata": {},
   "outputs": [],
   "source": [
    "np.sqrt(metrics.mean_squared_error(Y_test, housing_pred))"
   ]
  },
  {
   "cell_type": "code",
   "execution_count": null,
   "metadata": {},
   "outputs": [],
   "source": [
    "# Mean absolute error:\n",
    "print(\"Mean absolute error: %.1f\" % metrics.mean_absolute_error(Y_test, housing_pred))\n",
    "\n",
    "# R2 score:\n",
    "print('R2 Score: %.2f' % metrics.r2_score(Y_test, housing_pred))\n",
    "\n",
    "# Mean squared error:\n",
    "print('Mean squared error: %.2f' % metrics.mean_squared_error(Y_test, housing_pred))"
   ]
  },
  {
   "cell_type": "code",
   "execution_count": null,
   "metadata": {},
   "outputs": [],
   "source": [
    "print(Y_test[0:5])"
   ]
  },
  {
   "cell_type": "code",
   "execution_count": null,
   "metadata": {},
   "outputs": [],
   "source": [
    "#Compare actual value and predicted value:\n",
    "\n",
    "Y_test['Pred'] = housing_pred\n",
    "Y_test['Difference'] = abs(Y_test['Pred'] - Y_test)\n",
    "Y_test.head()\n",
    "#print(Y_test['Pred'])"
   ]
  },
  {
   "cell_type": "markdown",
   "metadata": {},
   "source": [
    "## <font color=\"#004D7F\">Ejercicio Boston</font>\n",
    "\n",
    "La base de datos boston es un dicionario que contiene gran cantidad de datos relacionados con la ciudad"
   ]
  },
  {
   "cell_type": "code",
   "execution_count": null,
   "metadata": {},
   "outputs": [],
   "source": [
    "#Import libraries\n",
    "import numpy\n",
    "import pandas as pd\n",
    "import sklearn\n",
    "import seaborn\n",
    "import matplotlib.pyplot as plt\n",
    "%matplotlib inline\n",
    "from pylab import rcParams\n",
    "rcParams['figure.figsize'] = 10, 8\n",
    "\n",
    "from sklearn import datasets, linear_model\n",
    "from sklearn.linear_model import LinearRegression, Ridge, Lasso\n",
    "from sklearn.model_selection import train_test_split\n",
    "from sklearn.linear_model import LinearRegression, Lasso, Ridge\n",
    "from sklearn.metrics import mean_squared_error, r2_score, mean_absolute_error\n",
    "# from sklearn.cross_validation import KFold\n",
    "from sklearn.datasets import load_boston\n",
    "from sklearn.preprocessing import PolynomialFeatures\n",
    "from sklearn.pipeline import make_pipeline\n",
    "from scipy.interpolate import spline\n",
    "from sklearn.neighbors import KNeighborsRegressor\n",
    "from sklearn.kernel_ridge import KernelRidge"
   ]
  },
  {
   "cell_type": "code",
   "execution_count": null,
   "metadata": {},
   "outputs": [],
   "source": [
    "boston = load_boston()\n",
    "print(boston.data.shape)\n",
    "boston.keys()"
   ]
  },
  {
   "cell_type": "code",
   "execution_count": null,
   "metadata": {},
   "outputs": [],
   "source": [
    "# Get the attributes or features of the data\n",
    "\n",
    "boston.feature_names"
   ]
  },
  {
   "cell_type": "code",
   "execution_count": null,
   "metadata": {},
   "outputs": [],
   "source": [
    "#bostondf = pd.DataFrame(boston.data, columns=boston.feature_names)\n",
    "\n",
    "#bostondf.head(4)\n",
    "#bostondf.shape\n",
    "\n",
    "boston_data = pd.DataFrame(boston['data'], columns=boston.feature_names)\n",
    "boston_target = pd.DataFrame(boston['target'], columns={'Target'})\n",
    "print(boston_data.head(2))\n",
    "print(boston_target.head(2))"
   ]
  },
  {
   "cell_type": "code",
   "execution_count": null,
   "metadata": {},
   "outputs": [],
   "source": [
    "# creamos un objeto con los parámetros por defecto\n",
    "lr = LinearRegression()\n",
    "\n",
    "# entrenamos con los datos de entrada y la salida\n",
    "lr.fit(boston_data,boston_target)\n",
    "\n",
    "# obtenemos una predicción para los datos de pima\n",
    "boston_prediction = lr.predict(boston_data)\n",
    "\n",
    "# comparamos estos datos con el error cuadrático medio\n",
    "from sklearn.metrics import mean_squared_error\n",
    "print('Error cuadrático medio:')\n",
    "print(mean_squared_error(boston_target, boston_prediction))\n",
    "\n",
    "# y obtenemos directamente el score\n",
    "print('Coeficiente R2 de la función score:')\n",
    "print(lr.score(boston_data,boston_target))"
   ]
  },
  {
   "cell_type": "code",
   "execution_count": null,
   "metadata": {},
   "outputs": [],
   "source": [
    "# ¡Atención! Solo necesario si se ejecuta el renglon que construye bostondf\n",
    "# First, check for missing information.\n",
    "# bostondf.isnull().sum()\n",
    "\n",
    "# Separar las variables dependent and independent variables\n",
    "# boston_data_X = bostondf[bostondf.columns[0:13]]\n",
    "# boston_data_Y = bostondf[bostondf.columns[13:14]]"
   ]
  },
  {
   "cell_type": "code",
   "execution_count": null,
   "metadata": {},
   "outputs": [],
   "source": [
    "#Check the correlation\n",
    "boston_data.corr()\n",
    "#Visualize correlation between attributes by using heatmap\n",
    "seaborn.heatmap(boston_data.corr())"
   ]
  },
  {
   "cell_type": "code",
   "execution_count": null,
   "metadata": {},
   "outputs": [],
   "source": [
    "# Feature contains high correlation. We need to remove them first before applying regression techniques.\n",
    "# Create correlation matrix\n",
    "abs_corr_matrix = boston_data.corr().abs()"
   ]
  },
  {
   "cell_type": "code",
   "execution_count": null,
   "metadata": {},
   "outputs": [],
   "source": [
    "# Select upper triangle of matrix\n",
    "up_tri = abs_corr_matrix.where(numpy.triu(numpy.ones(abs_corr_matrix.shape), k=1).astype(numpy.bool))\n",
    "\n",
    "# Find all the features which is having correlation > 0.75 with other features.\n",
    "correlated_features = [column for column in up_tri.columns if any(up_tri[column] > 0.75)]\n",
    "\n",
    "#Print correlated_features\n",
    "print(correlated_features)"
   ]
  },
  {
   "cell_type": "code",
   "execution_count": null,
   "metadata": {},
   "outputs": [],
   "source": [
    "#Drop correlated features:\n",
    "\n",
    "boston_data = boston_data.drop(correlated_features, axis=1)"
   ]
  },
  {
   "cell_type": "code",
   "execution_count": null,
   "metadata": {},
   "outputs": [],
   "source": [
    "#Divide the data into training and test set. Train set contains 80% of the data. Test set contains 20% of the data.\n",
    "\n",
    "X_train, X_test, Y_train, Y_test = train_test_split(boston_data, boston_target, test_size=0.20)\n",
    "\n",
    "#Create object of multiple linear regression:\n",
    "linear_regression = LinearRegression()\n",
    "\n",
    "# Fit the model:\n",
    "linear_regression.fit(X_train, Y_train)\n",
    "\n",
    "# Make prediction on test data:\n",
    "Y_pred = linear_regression.predict(X_test)\n"
   ]
  },
  {
   "cell_type": "code",
   "execution_count": null,
   "metadata": {},
   "outputs": [],
   "source": [
    "# Errores resultado\n",
    "\n",
    "# Mean squared error:\n",
    "print(\"Mean squared error: %.1f\" % mean_squared_error(Y_test,Y_pred))\n",
    "\n",
    "# R2 score:\n",
    "print('R2 Score: %.2f' % r2_score(Y_test,Y_pred))\n",
    "\n",
    "# Mean absolute error:\n",
    "print('Mean absolute error: %.2f' % mean_absolute_error(Y_test,Y_pred))\n"
   ]
  },
  {
   "cell_type": "code",
   "execution_count": null,
   "metadata": {},
   "outputs": [],
   "source": [
    "# Compare actual value and predicted value:\n",
    "\n",
    "Y_test['Predecido'] = Y_pred\n",
    "Y_test['Diferencia'] = abs(Y_test['Predecido'] - Y_test['Target'])\n",
    "Y_test.head()"
   ]
  },
  {
   "cell_type": "code",
   "execution_count": null,
   "metadata": {},
   "outputs": [],
   "source": [
    "# df = pd.DataFrame({'Actual': Y_test, 'Predecido': Y_pred})\n",
    "# df.head(5)\n",
    "\n",
    "# df2 = pd.DataFrame({'Actual': Y_test, 'Predecido': Y_pred, 'Diferencia':abs(Y_test - Y_pred)})\n",
    "# df2.head(5)\n",
    "\n",
    "# ValueError: If using all scalar values, you must pass an index"
   ]
  },
  {
   "cell_type": "code",
   "execution_count": null,
   "metadata": {},
   "outputs": [],
   "source": []
  }
 ],
 "metadata": {
  "kernelspec": {
   "display_name": "Python 3",
   "language": "python",
   "name": "python3"
  },
  "language_info": {
   "codemirror_mode": {
    "name": "ipython",
    "version": 3
   },
   "file_extension": ".py",
   "mimetype": "text/x-python",
   "name": "python",
   "nbconvert_exporter": "python",
   "pygments_lexer": "ipython3",
   "version": "3.7.3"
  }
 },
 "nbformat": 4,
 "nbformat_minor": 2
}
