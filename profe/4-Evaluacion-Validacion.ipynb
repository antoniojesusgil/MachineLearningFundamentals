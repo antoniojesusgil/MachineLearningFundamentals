{
 "cells": [
  {
   "cell_type": "markdown",
   "metadata": {},
   "source": [
    "---\n",
    "\n",
    "<h3><font color=\"#004D7F\" size=4> <i class=\"fa fa-pencil-square-o\" aria-hidden=\"true\" style=\"color:#004D7F\"></i> Ejercicio 1: Creación de $(X,Y)$, $(X_t,Y_t)$, $(X_T,Y_T)$ y validación train/test o holdout.</font></h3>\n",
    "\n",
    "\n",
    "Cargamos la base de datos `Breast Cancer Wisconsin`."
   ]
  },
  {
   "cell_type": "code",
   "execution_count": null,
   "metadata": {},
   "outputs": [],
   "source": [
    "from sklearn.linear_model import LinearRegression, LogisticRegression\n",
    "\n",
    "# Seleccionar modelo de regresión apropiado. ¿LinearRegression o LogisticRegression?\n",
    "#lr = ???\n",
    "lr = LogisticRegression()\n",
    "# Entrenar\n",
    "##lr. ???\n",
    "lr.fit(wisconsin_data,wisconsin_target)\n",
    "\n",
    "# Evaluar el modelo con la misma base de datos con la que se ha entrenado\n",
    "acc = lr.score(wisconsin_data,wisconsin_target)\n",
    "print('{:.4f}'.format(acc))\n",
    "\n",
    "# 0.9596"
   ]
  },
  {
   "cell_type": "code",
   "execution_count": null,
   "metadata": {},
   "outputs": [],
   "source": [
    "from sklearn.model_selection import train_test_split\n",
    "\n",
    "X_train,X_Test,Y_train,Y_Test = train_test_split(wisconsin_data,wisconsin_target,test_size=0.3, random_state=10)\n",
    "# random_state, semilla para partición aleatoria\n",
    "\n",
    "#lr. ???\n",
    "lr = LogisticRegression()\n",
    "lr.fit(X_train,Y_train)\n",
    "\n",
    "#acc = lr. ???\n",
    "\n",
    "acc = lr.score(X_Test,Y_Test)\n",
    "\n",
    "print('{:.4f}'.format(acc))\n",
    "\n",
    "# 0.9474"
   ]
  },
  {
   "cell_type": "markdown",
   "metadata": {},
   "source": [
    "# <font color=\"#004D7F\"> 2. Validación Cruzada</font>\n",
    "### <font color=\"#004D7F\"> <i class=\"fa fa-pencil-square-o\" aria-hidden=\"true\" style=\"color:#113D68\"></i> Ejercicio 2 K-CV</font>"
   ]
  },
  {
   "cell_type": "code",
   "execution_count": null,
   "metadata": {},
   "outputs": [],
   "source": [
    "#everything imported in previous example\n",
    "from sklearn.linear_model import LogisticRegression\n",
    "from sklearn.model_selection import StratifiedKFold\n",
    "\n",
    "K=10\n",
    "lr = LogisticRegression()\n",
    "accuracies = []\n",
    "\n",
    "#usa semilla = 1\n",
    "#skf = ???\n",
    "skf = StratifiedKFold(n_splits=K, random_state=1)\n",
    "for train_indices, test_indices in skf.split(X, Y):\n",
    "    X_t, X_T = X[train_indices], X[test_indices]\n",
    "    Y_t, Y_T = Y[train_indices], Y[test_indices]\n",
    "    lr.fit(X_t,Y_t)\n",
    "    accuracies.append(lr.score(X_T,Y_T))\n",
    "    print(accuracies[-1])\n",
    "    \n",
    "print('\\nAcc:{:.4f}  Std:{:.4f}'.format(np.mean(accuracies),np.std(accuracies)))"
   ]
  },
  {
   "cell_type": "markdown",
   "metadata": {},
   "source": [
    "### Ejemplo de Métricas para clasificación"
   ]
  },
  {
   "cell_type": "code",
   "execution_count": null,
   "metadata": {},
   "outputs": [],
   "source": [
    "import sklearn.metrics as metrics\n",
    "print('Precisión:',  metrics.precision_score(y,y_pred))\n",
    "print('Recall: ', metrics.recall_score(y,y_pred))\n",
    "print('F-Score: ', metrics.f1_score(y,y_pred))\n",
    "print('Matriz de confusión: ', metrics.confusion_matrix(y,y_pred))"
   ]
  },
  {
   "cell_type": "code",
   "execution_count": null,
   "metadata": {},
   "outputs": [],
   "source": []
  },
  {
   "cell_type": "code",
   "execution_count": null,
   "metadata": {},
   "outputs": [],
   "source": []
  },
  {
   "cell_type": "code",
   "execution_count": null,
   "metadata": {},
   "outputs": [],
   "source": []
  },
  {
   "cell_type": "code",
   "execution_count": null,
   "metadata": {},
   "outputs": [],
   "source": []
  },
  {
   "cell_type": "code",
   "execution_count": null,
   "metadata": {},
   "outputs": [],
   "source": []
  }
 ],
 "metadata": {
  "kernelspec": {
   "display_name": "Python 3",
   "language": "python",
   "name": "python3"
  },
  "language_info": {
   "codemirror_mode": {
    "name": "ipython",
    "version": 3
   },
   "file_extension": ".py",
   "mimetype": "text/x-python",
   "name": "python",
   "nbconvert_exporter": "python",
   "pygments_lexer": "ipython3",
   "version": "3.7.3"
  }
 },
 "nbformat": 4,
 "nbformat_minor": 2
}
