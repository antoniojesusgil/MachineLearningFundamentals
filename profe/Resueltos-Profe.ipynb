{
 "cells": [
  {
   "cell_type": "markdown",
   "metadata": {},
   "source": [
    "<img src=\"../img/crowdlearning-etic.png\" alt=\"Logo ETIC\" align=\"right\">\n",
    "\n",
    "\n",
    "<h1><font color=\"#004D7F\" size=6>Lab-1 Regresión</font></h1>\n",
    "\n",
    "<br>\n",
    "<br>\n",
    "<br>\n",
    "<br>\n",
    "<div style=\"text-align: right\">\n",
    "<font color=\"#004D7F\" size=3>Antonio Jesús Gil</font><br>\n",
    "<font color=\"#004D7F\" size=3>Fundamentos de Machine Learning</font><br>\n",
    "\n",
    "</div>"
   ]
  },
  {
   "cell_type": "markdown",
   "metadata": {},
   "source": [
    "---\n",
    "\n",
    "<a id=\"indice\"></a>\n",
    "<h2><font color=\"#004D7F\" size=5>Índice</font></h2>\n",
    "\n",
    "\n",
    "* [1. Regresión/Clasificación con SciKit Learn](#section1)\n",
    "* [2. Ejemplo Regresión Lineal](#section2)\n",
    "* [3. Ejercicios de Regresión Lineal](#section3)"
   ]
  },
  {
   "cell_type": "markdown",
   "metadata": {},
   "source": [
    "# <font color=\"#004D7F\">2 Regresion Lineal </font>"
   ]
  },
  {
   "cell_type": "markdown",
   "metadata": {},
   "source": [
    "---\n",
    "\n",
    "## <font color=\"#004D7F\"> Ejercicio Housing</font>\n",
    "\n"
   ]
  },
  {
   "cell_type": "markdown",
   "metadata": {},
   "source": [
    "<a id=\"section21\"></a>\n",
    "### <font color=\"#004D7F\"> Housing: Obtener datos</font>"
   ]
  },
  {
   "cell_type": "code",
   "execution_count": null,
   "metadata": {},
   "outputs": [],
   "source": [
    "import pandas as pd\n",
    "import numpy as np\n",
    "import matplotlib.pyplot as plt\n",
    "import seaborn as sns"
   ]
  },
  {
   "cell_type": "code",
   "execution_count": null,
   "metadata": {},
   "outputs": [],
   "source": [
    "housing = pd.read_csv('USA_housing.csv')"
   ]
  },
  {
   "cell_type": "code",
   "execution_count": null,
   "metadata": {},
   "outputs": [],
   "source": [
    "print(housing.shape)\n",
    "housing.head(5)\n",
    "housing.info()\n",
    "housing.describe()"
   ]
  },
  {
   "cell_type": "code",
   "execution_count": null,
   "metadata": {
    "scrolled": true
   },
   "outputs": [],
   "source": [
    "# Analysis on Each Pair of Features\n",
    "sns.pairplot(housing)"
   ]
  },
  {
   "cell_type": "code",
   "execution_count": null,
   "metadata": {},
   "outputs": [],
   "source": [
    "sns.distplot(housing['Price'])"
   ]
  },
  {
   "cell_type": "code",
   "execution_count": null,
   "metadata": {},
   "outputs": [],
   "source": [
    "sns.jointplot(x=housing['Price'], y=housing['Avg. Area Income'], kind='kde');"
   ]
  },
  {
   "cell_type": "code",
   "execution_count": null,
   "metadata": {},
   "outputs": [],
   "source": [
    "sns.heatmap(housing.corr(), annot=True)"
   ]
  },
  {
   "cell_type": "markdown",
   "metadata": {},
   "source": [
    "### <font color=\"#004D7F\"> Housing: Entrenar el modelo</font>\n",
    "\n",
    "Para ello dividiremos el conjunto en datos de prueba `test` y datos de entrenamiento `fit`\n",
    "\n",
    "El eje X contendrá todas las columnas características y el eje Y contendrá el target de salida.\n"
   ]
  },
  {
   "cell_type": "code",
   "execution_count": null,
   "metadata": {},
   "outputs": [],
   "source": [
    "from sklearn.model_selection import train_test_split\n",
    "from sklearn.linear_model import LinearRegression"
   ]
  },
  {
   "cell_type": "code",
   "execution_count": null,
   "metadata": {},
   "outputs": [],
   "source": [
    "housing.columns"
   ]
  },
  {
   "cell_type": "code",
   "execution_count": null,
   "metadata": {},
   "outputs": [],
   "source": [
    "X = housing[['Avg. Area Income', 'Avg. Area House Age', 'Avg. Area Number of Rooms',\n",
    "       'Avg. Area Number of Bedrooms', 'Area Population']]\n",
    "Y = housing['Price']"
   ]
  },
  {
   "cell_type": "code",
   "execution_count": null,
   "metadata": {},
   "outputs": [],
   "source": [
    "# crear las variables para dividir en datos de entrenamiento y prueba\n",
    "# Y_test nos servira para evaluar el model\n",
    "X_train, X_test, Y_train, Y_test = train_test_split(X, Y, test_size=0.3, random_state=42)"
   ]
  },
  {
   "cell_type": "code",
   "execution_count": null,
   "metadata": {},
   "outputs": [],
   "source": [
    "print(\"datos de entrenamiento caracteristicas, eje X\\n\", X_train.head(3))\n",
    "print(\"datos de test caracteristicas, eje X\\n\", X_test.head(3))"
   ]
  },
  {
   "cell_type": "code",
   "execution_count": null,
   "metadata": {},
   "outputs": [],
   "source": [
    "print(\"datos de entrenamiento target, eje Y\\n\", Y_train.head(3))\n",
    "print(\"\\ndatos de test, eje Y\\n\", Y_test.head(3))"
   ]
  },
  {
   "cell_type": "code",
   "execution_count": null,
   "metadata": {},
   "outputs": [],
   "source": [
    "# Entrenar el modelo mediante el metodo fit usando una variable que sera una instancia de \n",
    "lrm = LinearRegression()\n",
    "lrm.fit(X_train, Y_train)"
   ]
  },
  {
   "cell_type": "markdown",
   "metadata": {},
   "source": [
    "### <font color=\"#004D7F\"> Housing: Evaluar el modelo</font>\n",
    "\n",
    "Usamos el metodo `predict`"
   ]
  },
  {
   "cell_type": "code",
   "execution_count": null,
   "metadata": {},
   "outputs": [],
   "source": [
    "from sklearn import metrics"
   ]
  },
  {
   "cell_type": "code",
   "execution_count": null,
   "metadata": {},
   "outputs": [],
   "source": [
    "# pasamos como parámetros las caracteristicas de pruebas y genera las predicciones\n",
    "housing_pred = lrm.predict(X_test)"
   ]
  },
  {
   "cell_type": "markdown",
   "metadata": {},
   "source": [
    "Los datos predecidos deben ser comparados con el precio real para disponer de una aproximación al modelo o si por el contrario hemos de reajustar.\n",
    "\n",
    "* Calcular la diferencia entre los precios `Y_test` menos `housing_pred`\n",
    "\n",
    "Hay que tener en cuenta que `housing_predict`es una lista y `Y_test` es un NDArray"
   ]
  },
  {
   "cell_type": "code",
   "execution_count": null,
   "metadata": {},
   "outputs": [],
   "source": [
    "print(\"Predicción sobre los datos de test , eje X\\n\", housing_pred[0:3])\n",
    "housing_pred.dtype"
   ]
  },
  {
   "cell_type": "code",
   "execution_count": null,
   "metadata": {},
   "outputs": [],
   "source": [
    "# La diferecia entre los precios es el error: Y_test - housing_pred\n",
    "print(\"\\ndatos de test, eje Y\\n\", Y_test.head(3))\n",
    "Y_test.dtype"
   ]
  },
  {
   "cell_type": "code",
   "execution_count": null,
   "metadata": {},
   "outputs": [],
   "source": [
    "# Gráfico para ver las diferencias de tipo scatter\n",
    "plt.scatter(Y_test, housing_pred)"
   ]
  },
  {
   "cell_type": "code",
   "execution_count": null,
   "metadata": {},
   "outputs": [],
   "source": [
    "sns.jointplot(x=Y_test, y=housing_pred, kind='kde');"
   ]
  },
  {
   "cell_type": "code",
   "execution_count": null,
   "metadata": {},
   "outputs": [],
   "source": [
    "sns.distplot(Y_test - housing_pred)\n",
    "# El error se acerca mucho a la distribución normal."
   ]
  },
  {
   "cell_type": "code",
   "execution_count": null,
   "metadata": {},
   "outputs": [],
   "source": [
    "# Metricas para evaluar el modelo\n",
    "#1. MAE -> Mean absolute error, la media del valor absoluto de los errores\n",
    "# 2. MSE -> media de los errores al cuadrado\n",
    "# 3. RMSE -> raiz cuadrada de los errores al cuadrado\n",
    "metrics.mean_absolute_error(Y_test, housing_pred) # cuanto más bajo sea el valor, mejor es el modelo\n",
    "print(\"Mean absolute error: %.1f\" % metrics.mean_absolute_error(Y_test, housing_pred))"
   ]
  },
  {
   "cell_type": "code",
   "execution_count": null,
   "metadata": {},
   "outputs": [],
   "source": [
    "metrics.mean_squared_error(Y_test, housing_pred) "
   ]
  },
  {
   "cell_type": "code",
   "execution_count": null,
   "metadata": {},
   "outputs": [],
   "source": [
    "np.sqrt(metrics.mean_squared_error(Y_test, housing_pred))"
   ]
  },
  {
   "cell_type": "code",
   "execution_count": null,
   "metadata": {},
   "outputs": [],
   "source": [
    "# Mean absolute error:\n",
    "print(\"Mean absolute error: %.1f\" % metrics.mean_absolute_error(Y_test, housing_pred))\n",
    "\n",
    "# R2 score:\n",
    "print('R2 Score: %.2f' % metrics.r2_score(Y_test, housing_pred))\n",
    "\n",
    "# Mean squared error:\n",
    "print('Mean squared error: %.2f' % metrics.mean_squared_error(Y_test, housing_pred))"
   ]
  },
  {
   "cell_type": "code",
   "execution_count": null,
   "metadata": {},
   "outputs": [],
   "source": [
    "print(Y_test['Price']) "
   ]
  },
  {
   "cell_type": "code",
   "execution_count": null,
   "metadata": {},
   "outputs": [],
   "source": [
    "#Compare actual value and predicted value:\n",
    "\n",
    "Y_test['Pred'] = housing_pred\n",
    "#Y_test['Difference'] = abs(Y_test['Pred'] - Y_test['Price'])\n",
    "# Y_test.head()\n",
    "#print(Y_test['Pred'])"
   ]
  },
  {
   "cell_type": "markdown",
   "metadata": {},
   "source": [
    "\n",
    "## <font color=\"#004D7F\">Ejercicio Boston R. L.</font>\n",
    "\n",
    "La base de datos boston es un dicionario que contiene gran cantidad de datos relacionados con la ciudad"
   ]
  },
  {
   "cell_type": "code",
   "execution_count": null,
   "metadata": {},
   "outputs": [],
   "source": [
    "#Import libraries\n",
    "import numpy\n",
    "import pandas as pd\n",
    "import sklearn\n",
    "import seaborn\n",
    "import matplotlib.pyplot as plt\n",
    "%matplotlib inline\n",
    "from pylab import rcParams\n",
    "rcParams['figure.figsize'] = 10, 8\n",
    "\n",
    "from sklearn import datasets, linear_model\n",
    "from sklearn.linear_model import LinearRegression, Ridge, Lasso\n",
    "from sklearn.model_selection import train_test_split\n",
    "from sklearn.linear_model import LinearRegression, Lasso, Ridge\n",
    "from sklearn.metrics import mean_squared_error, r2_score, mean_absolute_error\n",
    "# from sklearn.cross_validation import KFold\n",
    "from sklearn.datasets import load_boston\n",
    "from sklearn.preprocessing import PolynomialFeatures\n",
    "from sklearn.pipeline import make_pipeline\n",
    "from scipy.interpolate import spline\n",
    "from sklearn.neighbors import KNeighborsRegressor\n",
    "from sklearn.kernel_ridge import KernelRidge\n"
   ]
  },
  {
   "cell_type": "code",
   "execution_count": null,
   "metadata": {},
   "outputs": [],
   "source": [
    "boston = load_boston()\n",
    "print(boston.data.shape)\n",
    "boston.keys()"
   ]
  },
  {
   "cell_type": "code",
   "execution_count": null,
   "metadata": {},
   "outputs": [],
   "source": [
    "boston.DESCR"
   ]
  },
  {
   "cell_type": "code",
   "execution_count": null,
   "metadata": {},
   "outputs": [],
   "source": [
    "# Get the attributes or features of the data\n",
    "\n",
    "boston.feature_names"
   ]
  },
  {
   "cell_type": "code",
   "execution_count": null,
   "metadata": {},
   "outputs": [],
   "source": [
    "#bostondf = pd.DataFrame(boston.data, columns=boston.feature_names)\n",
    "\n",
    "#bostondf.head(4)\n",
    "#bostondf.shape\n",
    "\n",
    "boston_data = pd.DataFrame(boston['data'], columns=boston.feature_names)\n",
    "boston_target = pd.DataFrame(boston['target'], columns={'Target'})\n",
    "print(boston_data.head(2))\n",
    "print(boston_target.head(2))"
   ]
  },
  {
   "cell_type": "code",
   "execution_count": null,
   "metadata": {},
   "outputs": [],
   "source": [
    "\n",
    "# creamos un objeto con los parámetros por defecto\n",
    "lr = LinearRegression()\n",
    "\n",
    "# entrenamos con los datos de entrada y la salida\n",
    "lr.fit(boston_data,boston_target)\n",
    "\n",
    "# obtenemos una predicción para los datos de pima\n",
    "boston_predictionf\n",
    "\n",
    "# comparamos estos datos con el error cuadrático medio\n",
    "from sklearn.metrics import mean_squared_error\n",
    "print('Error cuadrático medio:')\n",
    "print(mean_squared_error(boston_target, boston_prediction))\n",
    "\n",
    "# y obtenemos directamente el score\n",
    "print('Coeficiente R2 de la función score:')\n",
    "print(lr.score(boston_data,boston_target))"
   ]
  },
  {
   "cell_type": "code",
   "execution_count": null,
   "metadata": {},
   "outputs": [],
   "source": [
    "#First, check for missing information.\n",
    "#bostondf.isnull().sum()"
   ]
  },
  {
   "cell_type": "code",
   "execution_count": null,
   "metadata": {},
   "outputs": [],
   "source": [
    "# Separar las variables dependent and independent variables\n",
    "#boston_data_X = bostondf[bostondf.columns[0:13]]\n",
    "#boston_data_Y = bostondf[bostondf.columns[13:14]]"
   ]
  },
  {
   "cell_type": "code",
   "execution_count": null,
   "metadata": {},
   "outputs": [],
   "source": [
    "#Check the correlation\n",
    "boston_data.corr()"
   ]
  },
  {
   "cell_type": "code",
   "execution_count": null,
   "metadata": {},
   "outputs": [],
   "source": [
    "#Visualize correlation between attributes by using heatmap\n",
    "seaborn.heatmap(boston_data.corr())"
   ]
  },
  {
   "cell_type": "code",
   "execution_count": null,
   "metadata": {},
   "outputs": [],
   "source": [
    "# Feature contains high correlation. We need to remove them first before applying regression techniques.\n",
    "# Create correlation matrix\n",
    "abs_corr_matrix = boston_data.corr().abs()"
   ]
  },
  {
   "cell_type": "code",
   "execution_count": null,
   "metadata": {},
   "outputs": [],
   "source": [
    "# Select upper triangle of matrix\n",
    "up_tri = abs_corr_matrix.where(numpy.triu(numpy.ones(abs_corr_matrix.shape), k=1).astype(numpy.bool))\n",
    "\n",
    "# Find all the features which is having correlation > 0.75 with other features.\n",
    "correlated_features = [column for column in up_tri.columns if any(up_tri[column] > 0.75)]\n",
    "\n",
    "#Print correlated_features\n",
    "print(correlated_features)"
   ]
  },
  {
   "cell_type": "code",
   "execution_count": null,
   "metadata": {},
   "outputs": [],
   "source": [
    "#Drop correlated features:\n",
    "\n",
    "boston_data = boston_data.drop(correlated_features, axis=1)"
   ]
  },
  {
   "cell_type": "code",
   "execution_count": null,
   "metadata": {},
   "outputs": [],
   "source": [
    "#Divide the data into training and test set. Train set contains 80% of the data. Test set contains 20% of the data.\n",
    "\n",
    "X_train, X_test, Y_train, Y_test = train_test_split(boston_data, boston_target, test_size=0.20)"
   ]
  },
  {
   "cell_type": "code",
   "execution_count": null,
   "metadata": {},
   "outputs": [],
   "source": [
    "#Create object of multiple linear regression:\n",
    "linear_regression = LinearRegression()"
   ]
  },
  {
   "cell_type": "code",
   "execution_count": null,
   "metadata": {},
   "outputs": [],
   "source": [
    "# Fit the model:\n",
    "linear_regression.fit(X_train, Y_train)"
   ]
  },
  {
   "cell_type": "code",
   "execution_count": null,
   "metadata": {},
   "outputs": [],
   "source": [
    "# Make prediction on test data:\n",
    "\n",
    "Y_pred = linear_regression.predict(X_test)\n"
   ]
  },
  {
   "cell_type": "code",
   "execution_count": null,
   "metadata": {},
   "outputs": [],
   "source": [
    "# Mean squared error:\n",
    "print(\"Mean squared error: %.1f\" % mean_squared_error(Y_test,Y_pred))\n",
    "\n",
    "# R2 score:\n",
    "print('R2 Score: %.2f' % r2_score(Y_test,Y_pred))\n",
    "\n",
    "# Mean absolute error:\n",
    "print('Mean absolute error: %.2f' % mean_absolute_error(Y_test,Y_pred))\n"
   ]
  },
  {
   "cell_type": "code",
   "execution_count": null,
   "metadata": {},
   "outputs": [],
   "source": [
    "# Compare actual value and predicted value:\n",
    "\n",
    "Y_test['Predecido'] = Y_pred\n",
    "Y_test['Diferencia'] = abs(Y_test['Predecido'] - Y_test['Target'])\n",
    "Y_test.head()"
   ]
  },
  {
   "cell_type": "code",
   "execution_count": null,
   "metadata": {},
   "outputs": [],
   "source": [
    "#df2 = pd.DataFrame({'Actual': Y_test, 'Predecido': Y_pred, 'Diferencia':abs(Y_test - Y_pred)})\n",
    "#df2.head(5)\n",
    "df = pd.DataFrame({'Actual': Y_test, 'Predecido': Y_pred})\n",
    "df.head(5)"
   ]
  },
  {
   "cell_type": "markdown",
   "metadata": {},
   "source": [
    "# <font color=\"#004D7F\">2 Regresion Logistica </font>\n"
   ]
  },
  {
   "cell_type": "markdown",
   "metadata": {},
   "source": [
    "## <font color=\"#004D7F\">Ejercicio Wisconsin </font>"
   ]
  },
  {
   "cell_type": "code",
   "execution_count": null,
   "metadata": {},
   "outputs": [],
   "source": [
    "# Wisconsin\n",
    "# creamos un objeto con los parámetros por defecto\n",
    "#lr = LogisticRegression(solver='lbfgs', tol = 0.1)\n",
    "lr = LogisticRegression()\n",
    "\n",
    "# entrenamos con los datos de entrada y la salida\n",
    "lr.fit(wisconsin_data,wisconsin_target)\n",
    "\n",
    "# obtenemos una predicción para los datos de pima\n",
    "wisconsin_prediction = lr.predict(wisconsin_data)\n",
    "\n",
    "# comparamos estos datos con el error cuadrático medio\n",
    "from sklearn.metrics import mean_squared_error\n",
    "print('Error cuadrático medio:')\n",
    "print(mean_squared_error(wisconsin_target, wisconsin_prediction))\n",
    "\n",
    "# y obtenemos directamente el score\n",
    "print('Coeficiente R2 de la función score:')\n",
    "print(lr.score(wisconsin_data,wisconsin_target))"
   ]
  },
  {
   "cell_type": "code",
   "execution_count": null,
   "metadata": {},
   "outputs": [],
   "source": [
    "# creamos un objeto con los parámetros por defecto\n",
    "#lr = LogisticRegression(solver='lbfgs', tol = 0.1, max_iter=5)\n",
    "lr = LogisticRegression(tol = 0.1)\n",
    "#lr = LogisticRegression()\n",
    "\n",
    "# entrenamos con los datos de entrada y la salida\n",
    "lr.fit(mnist_data,mnist_target)\n",
    "\n",
    "# obtenemos una predicción para los datos de pima\n",
    "mnist_prediction = lr.predict(mnist_data)\n",
    "\n",
    "# comparamos estos datos con el error cuadrático medio\n",
    "from sklearn.metrics import mean_squared_error\n",
    "print('Error cuadrático medio:')\n",
    "print(mean_squared_error(mnist_target, mnist_prediction))\n",
    "\n",
    "# y obtenemos directamente el score\n",
    "print('Coeficiente R2 de la función score:')\n",
    "print(lr.score(mnist_data,mnist_target))"
   ]
  },
  {
   "cell_type": "markdown",
   "metadata": {},
   "source": [
    "## <font color=\"#004D7F\"> <i class=\"fa fa-pencil-square-o\" aria-hidden=\"true\" style=\"color:#113D68\"></i> Matriz de confusion - Teoria</font> "
   ]
  },
  {
   "cell_type": "code",
   "execution_count": null,
   "metadata": {},
   "outputs": [],
   "source": [
    "import sklearn.datasets\n",
    "wisconsin = sklearn.datasets.load_breast_cancer()\n",
    "wisconsin.keys()\n",
    "wisconsin_data = wisconsin['data']\n",
    "wisconsin_target = wisconsin['target']\n",
    "from sklearn.model_selection import train_test_split\n",
    "from sklearn.linear_model import LogisticRegression\n",
    "from sklearn.metrics import confusion_matrix\n",
    "X = wisconsin_data\n",
    "Y = wisconsin_target\n",
    "X_train, X_test, Y_train, Y_test = train_test_split(X, Y, test_size=0.3, random_state=1)\n",
    "\n",
    "lr = LogisticRegression()\n",
    "\n",
    "lr.fit(X_train, Y_train)\n",
    "predicciones = lr.predict(X_test)\n",
    "print('Tasa de acierto o accuracy clasificador en el entorno de test: {:.2f}'.format(lr.score(X_test, Y_test)))\n",
    "\n",
    "# Matriz de confusion\n",
    "mc= confusion_matrix(y_true= Y_test, y_pred=predicciones)\n",
    "clases = np.unique(Y)\n",
    "print('Clase real\\n  {:}   {:}'.format(clases[0],clases[1]))\n",
    "print(mc)\n",
    "print('\\nTP={:d} TN={:d}'.format(mc[0,0], mc[1,1]))\n",
    "print('FP={:d}  FN={:d}'.format(mc[1,0], mc[0,1]))\n"
   ]
  },
  {
   "cell_type": "code",
   "execution_count": null,
   "metadata": {},
   "outputs": [],
   "source": []
  },
  {
   "cell_type": "code",
   "execution_count": null,
   "metadata": {},
   "outputs": [],
   "source": []
  },
  {
   "cell_type": "markdown",
   "metadata": {},
   "source": [
    "## <font color=\"#004D7F\"> <i class=\"fa fa-pencil-square-o\" aria-hidden=\"true\" style=\"color:#113D68\"></i> Ejercicio:  Análisis de datos en <i>Marketing</i></font> \n",
    "\n",
    "El objetivo final consiste en elaborar un modelo de detección del abandono. Estos pasos pueden servir de orientación en el desarrollo:\n",
    "\n",
    "- En este caso, se parte de un solo conjunto de datos, que se debe dividir en una partición de entrenamiento y otra de test, que se utilizará para validar.\n",
    "\n",
    "- Como paso previo, es puede ser interesante explorar la distribución de la clase. Para ello, puede hacerse, por ejemplo, un gráfico de barras.\n",
    "\n",
    "- Por último, habría que reportar el rendimiento (en acierto y coste) sobre el conjunto de test.\n",
    "\n",
    "Para la realización del ejercicio, se proporciona un conjunto de datos, denominado, `datos/churn/customerChurnAnalysis.csv`, relativo al abandono en una operadora de telecomunicaciones. "
   ]
  },
  {
   "cell_type": "code",
   "execution_count": null,
   "metadata": {},
   "outputs": [],
   "source": [
    "import pandas as pd\n",
    "df = pd.read_csv('./datos/churn/customerChurnAnalysis.csv')\n",
    "df.shape"
   ]
  },
  {
   "cell_type": "code",
   "execution_count": null,
   "metadata": {},
   "outputs": [],
   "source": [
    "df.head(3)"
   ]
  },
  {
   "cell_type": "code",
   "execution_count": null,
   "metadata": {},
   "outputs": [],
   "source": [
    "df.columns"
   ]
  },
  {
   "cell_type": "code",
   "execution_count": null,
   "metadata": {},
   "outputs": [],
   "source": [
    "df.drop(['state','international plan','voice mail plan'], axis=1, inplace=True)"
   ]
  },
  {
   "cell_type": "code",
   "execution_count": null,
   "metadata": {},
   "outputs": [],
   "source": [
    "## Aqui una función para que cambie todos los object\n",
    "# Funcion no válida para boolean porque genera una matriz erronea\n",
    "## Este es el error que devuelve: LinAlgError: Singular matriz\n",
    "\n",
    "def encoder(df):\n",
    "    '''Manejo de campos categoricos para poder ser utilizados en scikit Learn'''\n",
    "    for col in df.columns:\n",
    "        if df.dtypes[col] == 'object':\n",
    "            label_encoder = preprocessing.LabelEncoder()\n",
    "            df[col] = label_encoder.fit_transform(df[col])\n",
    "    return df"
   ]
  },
  {
   "cell_type": "code",
   "execution_count": null,
   "metadata": {},
   "outputs": [],
   "source": [
    "# encoder(df)"
   ]
  },
  {
   "cell_type": "code",
   "execution_count": null,
   "metadata": {},
   "outputs": [],
   "source": [
    "from sklearn import preprocessing\n",
    "label_encoder = preprocessing.LabelEncoder()\n",
    "df['churn'] = label_encoder.fit_transform(df['churn'])"
   ]
  },
  {
   "cell_type": "code",
   "execution_count": null,
   "metadata": {},
   "outputs": [],
   "source": [
    "df.head(3)"
   ]
  },
  {
   "cell_type": "code",
   "execution_count": null,
   "metadata": {},
   "outputs": [],
   "source": [
    "df.to_csv('customerChurnAnalysisModified.csv')\n",
    "#df.to_csv(.\\datos)"
   ]
  },
  {
   "cell_type": "code",
   "execution_count": null,
   "metadata": {},
   "outputs": [],
   "source": [
    "from sklearn.model_selection import train_test_split\n",
    "# Particiones train y test\n",
    "#y = df.iloc[:,19].values\n",
    "#data = df.iloc[:,0:19].values\n",
    "y = df[\"churn\"]\n",
    "X = df[['account length','area code','number vmail messages','total day minutes',\n",
    "           'total day calls','total day charge','total eve minutes','total eve calls','total eve charge','total night minutes',\n",
    "           'total night calls','total night charge','total intl minutes','total intl calls','total intl charge','customer service calls']]\n",
    "   \n",
    "X_train, X_test, y_train, y_test = train_test_split(X, y, test_size=0.3, random_state=0)\n",
    "\n",
    "print(\"Partición para train: \", X_train.shape, y_train.shape)\n",
    "print(\"Partición para test: \", X_test.shape , y_test.shape)"
   ]
  },
  {
   "cell_type": "code",
   "execution_count": null,
   "metadata": {},
   "outputs": [],
   "source": [
    "from sklearn.linear_model import LogisticRegression \n",
    "from sklearn.model_selection import train_test_split\n",
    "from sklearn.metrics import confusion_matrix\n",
    "from sklearn import metrics\n",
    "\n",
    "logreg = LogisticRegression()\n",
    "logreg.fit(X_train, y_train)"
   ]
  },
  {
   "cell_type": "code",
   "execution_count": null,
   "metadata": {},
   "outputs": [],
   "source": [
    "y_pred = logreg.predict(X_test)\n",
    "print('Accuracy del clasificador en el entorno de test: {:.2f}'.format(logreg.score(X_test, y_test)))"
   ]
  },
  {
   "cell_type": "code",
   "execution_count": null,
   "metadata": {},
   "outputs": [],
   "source": [
    "confusion_matrix = confusion_matrix(y_test, y_pred)"
   ]
  },
  {
   "cell_type": "code",
   "execution_count": null,
   "metadata": {
    "scrolled": true
   },
   "outputs": [],
   "source": [
    "import matplotlib.pyplot as plt\n",
    "from matplotlib import style\n",
    "import seaborn as sns\n",
    "\n",
    "sns.heatmap(confusion_matrix, annot=True,  fmt='');\n",
    "title = 'Matriz de Confusión sobre Regresión Logística con fit regularizado a 0.5'\n",
    "plt.title(title);"
   ]
  },
  {
   "cell_type": "markdown",
   "metadata": {},
   "source": [
    "# <font color=\"#004D7F\">4 Transformaciones</font>"
   ]
  },
  {
   "cell_type": "markdown",
   "metadata": {},
   "source": [
    "En este caso, los valores perdidos han sido sustituidos por la media de los valores conocidos en `bareNuclei`. Si vamos a la documentación del `Imputer` en https://scikit-learn.org/stable/modules/generated/sklearn.impute.SimpleImputer.html, podremos observar los diferentes parámetros de configuración del algoritmo. Si queremos modificar el comportamiento del algoritmo deberemos definir estos parámetros\n",
    "en el constructor cuando creemos el objeto. \n",
    "\n",
    "### <font color=\"#004D7F\"> <i class=\"fa fa-pencil-square-o\" aria-hidden=\"true\" style=\"color:#113D68\"></i> Ejercicio 1: Valores perdidos por la moda</font>\n",
    "\n",
    "En este primer ejercicio se pide utilizar la mediana en vez de la media para rellenar los valores perdidos de `wisconsin_data`."
   ]
  },
  {
   "cell_type": "code",
   "execution_count": null,
   "metadata": {},
   "outputs": [],
   "source": [
    "import pandas as pd\n",
    "wisconsin = pd.read_csv('wisconsin.csv')\n",
    "#wisconsin.head(5)\n",
    "wisconsin_data = wisconsin.drop('label',1)\n",
    "wisconsin_target = wisconsin['label']\n",
    "wisconsin_data.isnull().sum()"
   ]
  },
  {
   "cell_type": "code",
   "execution_count": null,
   "metadata": {},
   "outputs": [],
   "source": [
    "import numpy as np\n",
    "from sklearn.impute import SimpleImputer\n",
    "imp_moda = SimpleImputer()\n",
    "imp_mmoda = SimpleImputer(missing_values=np.nan, strategy='most_frequent')\n",
    "imp_moda.fit(wisconsin_data)\n",
    "wisconsin_trans_moda = imp_moda.transform(wisconsin_data)\n",
    "wisconsin_trans_moda = pd.DataFrame(wisconsin_trans_moda, columns = wisconsin_data.columns)\n",
    "\n",
    "# Si volvemos a comprobar los NaN's en la nueva base de datos, vemos que ya no hay\n",
    "print(np.sum(np.isnan(wisconsin_trans_moda)))"
   ]
  },
  {
   "cell_type": "markdown",
   "metadata": {},
   "source": [
    "### <font color=\"#004D7F\"> <i class=\"fa fa-pencil-square-o\" aria-hidden=\"true\" style=\"color:#113D68\"></i> Ejercicio 2: Nuevas variables polinomiales de grado 2 en Pima</font> \n",
    "\n",
    "La forma de utilizar el algoritmo es igual que con `Imputer`, por eso se pide que utilizando `fit` y `transform` o `fit_transform`, se obtenga de `pima_data` una nueva base de datos llamada `pima_pol` aplicando `PolynomialFeatures`. Imprimir cuantas variables tiene ahora la base de datos y su nombre. Para obtener el nombre de las nuevas características mirar la función `get_feature_names` de la documentación en http://scikit-learn.org/stable/modules/generated/sklearn.preprocessing.PolynomialFeatures.html\n",
    "\n",
    "Se pide: \n",
    "\n",
    "Aplicar este transformador en una nueva variable denominada `pima_pol` de igual manera que en el ejercio anterior.\n",
    "Se obtendran muchas variables nuevas a partir de las originales ¿nombre? ¿como se han generado? ¿como estan ordenadas?"
   ]
  },
  {
   "cell_type": "code",
   "execution_count": null,
   "metadata": {},
   "outputs": [],
   "source": [
    "import sklearn.datasets\n",
    "pima = sklearn.datasets.load_diabetes()\n",
    "pima_data = pima['data']\n",
    "pima_target = pima['target']\n",
    "\n",
    "from sklearn.preprocessing import PolynomialFeatures\n",
    "\n",
    "poly = PolynomialFeatures(degree=2)\n",
    "pima_pol = poly.fit_transform(pima_data)\n",
    "#print(poly.fit_transform(pima_data))\n",
    "pima_pol"
   ]
  },
  {
   "cell_type": "code",
   "execution_count": null,
   "metadata": {},
   "outputs": [],
   "source": [
    "print(pima_pol.shape)"
   ]
  },
  {
   "cell_type": "markdown",
   "metadata": {},
   "source": [
    "### <font color=\"#004D7F\"> <i class=\"fa fa-pencil-square-o\" aria-hidden=\"true\" style=\"color:#113D68\"></i> Ejercicio 3: Dígitos de MNIST normalizados por la media</font> \n",
    "\n",
    "Se pide de la misma forma que en el caso anterior, se pruebe este transformador y que se obtenga una nueva base de datos mnist_scaler y que se comparen los dígitos imprimidos antes con los transformados."
   ]
  },
  {
   "cell_type": "code",
   "execution_count": null,
   "metadata": {},
   "outputs": [],
   "source": [
    "scaler = StandardScaler()\n",
    "\n",
    "X_train = scaler.fit_transform(mnist_data)\n",
    "\n",
    "print(np.sum(np.isnan(X_train)))"
   ]
  },
  {
   "cell_type": "markdown",
   "metadata": {},
   "source": [
    "# <font color=\"#004D7F\"> 3 Validación cruzada, wisconsin</font> \n",
    "\n",
    "## <font color=\"#004D7F\"> wisconsin</font> \n",
    "\n",
    "Ejemplo con particion continua"
   ]
  },
  {
   "cell_type": "code",
   "execution_count": null,
   "metadata": {},
   "outputs": [],
   "source": [
    "import numpy as np\n",
    "import sklearn.datasets\n",
    "wisconsin = sklearn.datasets.load_breast_cancer()\n",
    "wisconsin.keys()\n",
    "wisconsin_data = wisconsin['data']\n",
    "wisconsin_target = wisconsin['target']\n",
    "from sklearn.model_selection import train_test_split\n",
    "from sklearn.linear_model import LogisticRegression\n",
    "X = wisconsin_data\n",
    "y = wisconsin_target\n",
    "\n",
    "lr = LogisticRegression()\n",
    "acc = np.empty(10)\n",
    "\n",
    "for i in range(0,10):\n",
    "    X_train, X_test, Y_train, Y_test = train_test_split(X, y, test_size=0.3, random_state=i*i)\n",
    "    lr.fit(X_train, Y_train)\n",
    "    acc[i] = lr.score(X_test, Y_test)\n",
    "    print('{:.4f}' .format(acc[i]))\n",
    "\n",
    "print('Acc: {:.4f} Std: {:.4f}'.format(np.mean(acc), np.std(acc)))"
   ]
  },
  {
   "cell_type": "markdown",
   "metadata": {},
   "source": [
    "Ejercicio 1 validacion cruzada wisconsin dataset universidad "
   ]
  },
  {
   "cell_type": "code",
   "execution_count": null,
   "metadata": {},
   "outputs": [],
   "source": [
    "## Primer renglon\n",
    "\n",
    "from sklearn.linear_model import LinearRegression, LogisticRegression\n",
    "#seleccionamos el modelo de regresión apropiado. ¿LinearRegression o LogisticRegression?\n",
    "lr = ???\n",
    "\n",
    "#lo entrenamos\n",
    "##lr. ???\n",
    "lr.fit(X, Y)\n",
    "#evaluamos el modelo con la misma base de datos con la que se ha entrenado\n",
    "acc = lr.score(X,Y)\n",
    "print('{:.4f}'.format(acc))\n",
    "# 0.9596"
   ]
  },
  {
   "cell_type": "code",
   "execution_count": null,
   "metadata": {},
   "outputs": [],
   "source": [
    "## Segundo renglon\n",
    "from sklearn.model_selection import train_test_split\n",
    "\n",
    "X_t, X_T, Y_t, Y_T = train_test_split(X,Y,test_size=0.3, random_state=10) #random_state es la semilla para la partición aleatoria\n",
    "##lr. ???\n",
    "lr.fit(X_t, Y_t)\n",
    "#acc = lr. ???\n",
    "acc = lr.score(X_T,Y_T)\n",
    "print('{:.4f}'.format(acc))\n",
    "# 0.9474"
   ]
  },
  {
   "cell_type": "markdown",
   "metadata": {},
   "source": [
    "### <font color=\"#004D7F\"> <i class=\"fa fa-pencil-square-o\" aria-hidden=\"true\" style=\"color:#113D68\"></i>Intro a Validación cruzada, wisconsin</font> \n",
    "Ejemplo con validación cruzada"
   ]
  },
  {
   "cell_type": "code",
   "execution_count": null,
   "metadata": {},
   "outputs": [],
   "source": [
    "import numpy as np\n",
    "import sklearn.datasets\n",
    "wisconsin = sklearn.datasets.load_breast_cancer()\n",
    "wisconsin.keys()\n",
    "wisconsin_data = wisconsin['data']\n",
    "wisconsin_target = wisconsin['target']\n",
    "from sklearn.model_selection import StratifiedKFold\n",
    "from sklearn.linear_model import LogisticRegression\n",
    "X = wisconsin_data\n",
    "Y = wisconsin_target\n",
    "\n",
    "K=5\n",
    "acc = []\n",
    "lr = LogisticRegression()\n",
    "skf = StratifiedKFold(n_splits=K, random_state=1)\n",
    "\n",
    "for train_indices, test_indices in skf.split(X,Y):\n",
    "    X_train, X_test = X[train_indices], X[test_indices]\n",
    "    Y_train, Y_test = Y[train_indices], Y[test_indices]\n",
    "    lr.fit(X_train, Y_train)\n",
    "    acc.append(lr.score(X_test, Y_test))\n",
    "    print(acc[-1])\n",
    "\n",
    "print('Acc: {:.4f} Std: {:.4f}'.format(np.mean(acc), np.std(acc)))"
   ]
  },
  {
   "cell_type": "markdown",
   "metadata": {},
   "source": [
    "## Logistic Regression 3-class Classifier"
   ]
  },
  {
   "cell_type": "code",
   "execution_count": null,
   "metadata": {
    "scrolled": true
   },
   "outputs": [],
   "source": [
    "print(__doc__)\n",
    "\n",
    "# Code source: Gaël Varoquaux\n",
    "# Modified for documentation by Jaques Grobler\n",
    "# License: BSD 3 clause\n",
    "\n",
    "import numpy as np\n",
    "import matplotlib.pyplot as plt\n",
    "from sklearn.linear_model import LogisticRegression\n",
    "from sklearn import datasets\n",
    "\n",
    "# import some data to play with\n",
    "iris = datasets.load_iris()\n",
    "X = iris.data[:, :2]  # we only take the first two features.\n",
    "Y = iris.target\n",
    "\n",
    "logreg = LogisticRegression(C=1e5, solver='lbfgs', multi_class='multinomial')\n",
    "\n",
    "# Create an instance of Logistic Regression Classifier and fit the data.\n",
    "logreg.fit(X, Y)\n",
    "\n",
    "# Plot the decision boundary. For that, we will assign a color to each\n",
    "# point in the mesh [x_min, x_max]x[y_min, y_max].\n",
    "x_min, x_max = X[:, 0].min() - .5, X[:, 0].max() + .5\n",
    "y_min, y_max = X[:, 1].min() - .5, X[:, 1].max() + .5\n",
    "h = .02  # step size in the mesh\n",
    "xx, yy = np.meshgrid(np.arange(x_min, x_max, h), np.arange(y_min, y_max, h))\n",
    "Z = logreg.predict(np.c_[xx.ravel(), yy.ravel()])\n",
    "\n",
    "# Put the result into a color plot\n",
    "Z = Z.reshape(xx.shape)\n",
    "plt.figure(1, figsize=(4, 3))\n",
    "plt.pcolormesh(xx, yy, Z, cmap=plt.cm.Paired)\n",
    "\n",
    "# Plot also the training points\n",
    "plt.scatter(X[:, 0], X[:, 1], c=Y, edgecolors='k', cmap=plt.cm.Paired)\n",
    "plt.xlabel('Sepal length')\n",
    "plt.ylabel('Sepal width')\n",
    "\n",
    "plt.xlim(xx.min(), xx.max())\n",
    "plt.ylim(yy.min(), yy.max())\n",
    "plt.xticks(())\n",
    "plt.yticks(())\n",
    "\n",
    "plt.show()"
   ]
  },
  {
   "cell_type": "markdown",
   "metadata": {},
   "source": [
    "### Ejemplo de Métricas para clasificación"
   ]
  },
  {
   "cell_type": "code",
   "execution_count": null,
   "metadata": {},
   "outputs": [],
   "source": [
    "import sklearn.metrics as metrics\n",
    "print('Precisión:',  metrics.precision_score(y,y_pred))\n",
    "print('Recall: ', metrics.recall_score(y,y_pred))\n",
    "print('F-Score: ', metrics.f1_score(y,y_pred))\n",
    "print('Matriz de confusión: ', metrics.confusion_matrix(y,y_pred))"
   ]
  },
  {
   "cell_type": "markdown",
   "metadata": {},
   "source": [
    "# <font color=\"#004D7F\"> 5 Selección de Variables</font> \n",
    "## <font color=\"#004D7F\"> 5 Selección de Variables</font> \n",
    "\n",
    "### Regresion Lineal utilizando Lasso"
   ]
  },
  {
   "cell_type": "code",
   "execution_count": 6,
   "metadata": {},
   "outputs": [
    {
     "data": {
      "text/plain": [
       "<matplotlib.legend.Legend at 0x7fd8d9d1d2b0>"
      ]
     },
     "execution_count": 6,
     "metadata": {},
     "output_type": "execute_result"
    },
    {
     "data": {
      "image/png": "[encoded data removed]",
      "text/plain": [
       "<Figure size 432x288 with 1 Axes>"
      ]
     },
     "metadata": {
      "needs_background": "light"
     },
     "output_type": "display_data"
    }
   ],
   "source": [
    "import sklearn.datasets\n",
    "import numpy as np\n",
    "import matplotlib.pyplot as plt\n",
    "from sklearn.linear_model import Lasso\n",
    "\n",
    "datos = sklearn.datasets.load_diabetes()\n",
    "X = datos.data\n",
    "Y = datos.target\n",
    "nvars = X.shape[1]\n",
    "n_alphas = 200\n",
    "alphas = np.logspace(2, -2, n_alphas)\n",
    "coefs = []\n",
    "for a in alphas:\n",
    "    lasso = Lasso(alpha=a)\n",
    "    lasso.fit(X,Y)\n",
    "    coefs.append(lasso.coef_)\n",
    "    \n",
    "ax = plt.gca()\n",
    "coefs= np.array(coefs)\n",
    "\n",
    "for i in range(nvars):\n",
    "    plt.plot(alphas, coefs[:,i], label= datos.feature_names[i])\n",
    "\n",
    "ax.set_xscale('log')\n",
    "plt.xlabel('alpha')\n",
    "plt.ylabel('Coeficientes')\n",
    "plt.title('Seleccion de variables segun parametro alpha de regularización Lasso')\n",
    "\n",
    "plt.legend(loc='upper right')\n",
    "ax.legend(loc='upper right', ncol=2, fancybox=True)"
   ]
  },
  {
   "cell_type": "markdown",
   "metadata": {},
   "source": [
    "¿Que valor darías a $\\alpha$ para quedarte con las 5 variables más influyentes?"
   ]
  },
  {
   "cell_type": "markdown",
   "metadata": {},
   "source": [
    "### Regresion Logística utilizando Lasso"
   ]
  },
  {
   "cell_type": "markdown",
   "metadata": {},
   "source": [
    "# <font color=\"#004D7F\"> 5 Selección de Variables - Métricas filter</font> \n",
    "\n",
    "### Métricas univariadas para problemas de clasificación\n",
    "\n",
    "> Test paramétrico ANOVA, tiene como hipótesis nula el que, para cada posible valor de la clase, la media de una variable no varía. Solo captura relaciones lineales\n",
    "\n",
    "> MI, Mutual Information, captura cualquier tipo de relación\n",
    "\n",
    "Cuanto mayor es el valor de la métrica, más relacion del atributo con la clase. Un valor 0 significa independencia total entre variables."
   ]
  },
  {
   "cell_type": "markdown",
   "metadata": {},
   "source": [
    "## <font color=\"#004D7F\"> Ranking por test ANOVA</font> \n",
    "### Seleccionar las K mejores variables con SelectKBest "
   ]
  },
  {
   "cell_type": "code",
   "execution_count": 26,
   "metadata": {},
   "outputs": [
    {
     "name": "stdout",
     "output_type": "stream",
     "text": [
      "Ranking: [27 22  7 20  2  0 23  3  6 26]\n"
     ]
    },
    {
     "data": {
      "text/plain": [
       "Text(0.5, 0, 'Indice de la variable')"
      ]
     },
     "execution_count": 26,
     "metadata": {},
     "output_type": "execute_result"
    },
    {
     "data": {
      "image/png": "[encoded data removed]",
      "text/plain": [
       "<Figure size 1152x144 with 1 Axes>"
      ]
     },
     "metadata": {
      "needs_background": "light"
     },
     "output_type": "display_data"
    }
   ],
   "source": [
    "import sklearn.datasets\n",
    "import numpy as np\n",
    "import matplotlib.pyplot as plt\n",
    "from sklearn.model_selection import train_test_split\n",
    "from sklearn.feature_selection import SelectKBest, f_classif\n",
    "\n",
    "datos = sklearn.datasets.load_breast_cancer()\n",
    "X = datos.data\n",
    "Y = datos.target\n",
    "# Añadimos 100 variables con ruido despues de las 30 originales \n",
    "# No deberian ser seleccionadas\n",
    "semilla = 0\n",
    "random = np.random.RandomState(semilla)\n",
    "ruido = random.normal(size=(len(X), 100))\n",
    "X_ruido = np.hstack([X, ruido])\n",
    "X_t, X_T, Y_t, Y_T = train_test_split(X_ruido,Y,test_size=0.2, random_state=semilla)\n",
    "\n",
    "# Seleccionar las 10 mejores segun test ANOVA\n",
    "K = 10\n",
    "ranking = SelectKBest(score_func = f_classif, k=K)\n",
    "ranking.fit(X_t,Y_t)\n",
    "X_t_proyec = ranking.transform(X_t)\n",
    "\n",
    "# Ver ranking visual y de variables seleccionadas \n",
    "print(\"Ranking: {}\".format(np.argsort(ranking.scores_)[::-1][:K]))\n",
    "seleccionados = ranking.get_support()\n",
    "plt.matshow(seleccionados.reshape(1,-1), cmap='prism')\n",
    "plt.xlabel(\"Indice de la variable\")\n"
   ]
  },
  {
   "cell_type": "markdown",
   "metadata": {},
   "source": [
    "# <font color=\"#004D7F\"> 5 Selección de Variables</font> \n",
    "## <font color=\"#004D7F\"> Ranking por test ANOVA</font> \n",
    "\n",
    "### Porcentaje de variables seleccionadas SelectPercentile"
   ]
  },
  {
   "cell_type": "code",
   "execution_count": 25,
   "metadata": {
    "collapsed": true
   },
   "outputs": [
    {
     "name": "stderr",
     "output_type": "stream",
     "text": [
      "/opt/conda/lib/python3.7/site-packages/sklearn/model_selection/_split.py:2053: FutureWarning: You should specify a value for 'cv' instead of relying on the default value. The default value will change from 3 to 5 in version 0.22.\n",
      "  warnings.warn(CV_WARNING, FutureWarning)\n",
      "/opt/conda/lib/python3.7/site-packages/sklearn/linear_model/logistic.py:433: FutureWarning: Default solver will be changed to 'lbfgs' in 0.22. Specify a solver to silence this warning.\n",
      "  FutureWarning)\n",
      "/opt/conda/lib/python3.7/site-packages/sklearn/linear_model/logistic.py:433: FutureWarning: Default solver will be changed to 'lbfgs' in 0.22. Specify a solver to silence this warning.\n",
      "  FutureWarning)\n",
      "/opt/conda/lib/python3.7/site-packages/sklearn/linear_model/logistic.py:433: FutureWarning: Default solver will be changed to 'lbfgs' in 0.22. Specify a solver to silence this warning.\n",
      "  FutureWarning)\n",
      "/opt/conda/lib/python3.7/site-packages/sklearn/model_selection/_split.py:2053: FutureWarning: You should specify a value for 'cv' instead of relying on the default value. The default value will change from 3 to 5 in version 0.22.\n",
      "  warnings.warn(CV_WARNING, FutureWarning)\n",
      "/opt/conda/lib/python3.7/site-packages/sklearn/linear_model/logistic.py:433: FutureWarning: Default solver will be changed to 'lbfgs' in 0.22. Specify a solver to silence this warning.\n",
      "  FutureWarning)\n",
      "/opt/conda/lib/python3.7/site-packages/sklearn/linear_model/logistic.py:433: FutureWarning: Default solver will be changed to 'lbfgs' in 0.22. Specify a solver to silence this warning.\n",
      "  FutureWarning)\n",
      "/opt/conda/lib/python3.7/site-packages/sklearn/linear_model/logistic.py:433: FutureWarning: Default solver will be changed to 'lbfgs' in 0.22. Specify a solver to silence this warning.\n",
      "  FutureWarning)\n",
      "/opt/conda/lib/python3.7/site-packages/sklearn/model_selection/_split.py:2053: FutureWarning: You should specify a value for 'cv' instead of relying on the default value. The default value will change from 3 to 5 in version 0.22.\n",
      "  warnings.warn(CV_WARNING, FutureWarning)\n",
      "/opt/conda/lib/python3.7/site-packages/sklearn/linear_model/logistic.py:433: FutureWarning: Default solver will be changed to 'lbfgs' in 0.22. Specify a solver to silence this warning.\n",
      "  FutureWarning)\n",
      "/opt/conda/lib/python3.7/site-packages/sklearn/linear_model/logistic.py:433: FutureWarning: Default solver will be changed to 'lbfgs' in 0.22. Specify a solver to silence this warning.\n",
      "  FutureWarning)\n",
      "/opt/conda/lib/python3.7/site-packages/sklearn/linear_model/logistic.py:433: FutureWarning: Default solver will be changed to 'lbfgs' in 0.22. Specify a solver to silence this warning.\n",
      "  FutureWarning)\n",
      "/opt/conda/lib/python3.7/site-packages/sklearn/model_selection/_split.py:2053: FutureWarning: You should specify a value for 'cv' instead of relying on the default value. The default value will change from 3 to 5 in version 0.22.\n",
      "  warnings.warn(CV_WARNING, FutureWarning)\n",
      "/opt/conda/lib/python3.7/site-packages/sklearn/linear_model/logistic.py:433: FutureWarning: Default solver will be changed to 'lbfgs' in 0.22. Specify a solver to silence this warning.\n",
      "  FutureWarning)\n",
      "/opt/conda/lib/python3.7/site-packages/sklearn/linear_model/logistic.py:433: FutureWarning: Default solver will be changed to 'lbfgs' in 0.22. Specify a solver to silence this warning.\n",
      "  FutureWarning)\n",
      "/opt/conda/lib/python3.7/site-packages/sklearn/linear_model/logistic.py:433: FutureWarning: Default solver will be changed to 'lbfgs' in 0.22. Specify a solver to silence this warning.\n",
      "  FutureWarning)\n",
      "/opt/conda/lib/python3.7/site-packages/sklearn/model_selection/_split.py:2053: FutureWarning: You should specify a value for 'cv' instead of relying on the default value. The default value will change from 3 to 5 in version 0.22.\n",
      "  warnings.warn(CV_WARNING, FutureWarning)\n",
      "/opt/conda/lib/python3.7/site-packages/sklearn/linear_model/logistic.py:433: FutureWarning: Default solver will be changed to 'lbfgs' in 0.22. Specify a solver to silence this warning.\n",
      "  FutureWarning)\n",
      "/opt/conda/lib/python3.7/site-packages/sklearn/linear_model/logistic.py:433: FutureWarning: Default solver will be changed to 'lbfgs' in 0.22. Specify a solver to silence this warning.\n",
      "  FutureWarning)\n",
      "/opt/conda/lib/python3.7/site-packages/sklearn/linear_model/logistic.py:433: FutureWarning: Default solver will be changed to 'lbfgs' in 0.22. Specify a solver to silence this warning.\n",
      "  FutureWarning)\n",
      "/opt/conda/lib/python3.7/site-packages/sklearn/model_selection/_split.py:2053: FutureWarning: You should specify a value for 'cv' instead of relying on the default value. The default value will change from 3 to 5 in version 0.22.\n",
      "  warnings.warn(CV_WARNING, FutureWarning)\n",
      "/opt/conda/lib/python3.7/site-packages/sklearn/linear_model/logistic.py:433: FutureWarning: Default solver will be changed to 'lbfgs' in 0.22. Specify a solver to silence this warning.\n",
      "  FutureWarning)\n",
      "/opt/conda/lib/python3.7/site-packages/sklearn/linear_model/logistic.py:433: FutureWarning: Default solver will be changed to 'lbfgs' in 0.22. Specify a solver to silence this warning.\n",
      "  FutureWarning)\n",
      "/opt/conda/lib/python3.7/site-packages/sklearn/linear_model/logistic.py:433: FutureWarning: Default solver will be changed to 'lbfgs' in 0.22. Specify a solver to silence this warning.\n",
      "  FutureWarning)\n",
      "/opt/conda/lib/python3.7/site-packages/sklearn/model_selection/_split.py:2053: FutureWarning: You should specify a value for 'cv' instead of relying on the default value. The default value will change from 3 to 5 in version 0.22.\n",
      "  warnings.warn(CV_WARNING, FutureWarning)\n",
      "/opt/conda/lib/python3.7/site-packages/sklearn/linear_model/logistic.py:433: FutureWarning: Default solver will be changed to 'lbfgs' in 0.22. Specify a solver to silence this warning.\n",
      "  FutureWarning)\n",
      "/opt/conda/lib/python3.7/site-packages/sklearn/linear_model/logistic.py:433: FutureWarning: Default solver will be changed to 'lbfgs' in 0.22. Specify a solver to silence this warning.\n",
      "  FutureWarning)\n",
      "/opt/conda/lib/python3.7/site-packages/sklearn/linear_model/logistic.py:433: FutureWarning: Default solver will be changed to 'lbfgs' in 0.22. Specify a solver to silence this warning.\n",
      "  FutureWarning)\n",
      "/opt/conda/lib/python3.7/site-packages/sklearn/model_selection/_split.py:2053: FutureWarning: You should specify a value for 'cv' instead of relying on the default value. The default value will change from 3 to 5 in version 0.22.\n",
      "  warnings.warn(CV_WARNING, FutureWarning)\n",
      "/opt/conda/lib/python3.7/site-packages/sklearn/linear_model/logistic.py:433: FutureWarning: Default solver will be changed to 'lbfgs' in 0.22. Specify a solver to silence this warning.\n",
      "  FutureWarning)\n",
      "/opt/conda/lib/python3.7/site-packages/sklearn/linear_model/logistic.py:433: FutureWarning: Default solver will be changed to 'lbfgs' in 0.22. Specify a solver to silence this warning.\n",
      "  FutureWarning)\n",
      "/opt/conda/lib/python3.7/site-packages/sklearn/linear_model/logistic.py:433: FutureWarning: Default solver will be changed to 'lbfgs' in 0.22. Specify a solver to silence this warning.\n",
      "  FutureWarning)\n",
      "/opt/conda/lib/python3.7/site-packages/sklearn/model_selection/_split.py:2053: FutureWarning: You should specify a value for 'cv' instead of relying on the default value. The default value will change from 3 to 5 in version 0.22.\n",
      "  warnings.warn(CV_WARNING, FutureWarning)\n",
      "/opt/conda/lib/python3.7/site-packages/sklearn/linear_model/logistic.py:433: FutureWarning: Default solver will be changed to 'lbfgs' in 0.22. Specify a solver to silence this warning.\n",
      "  FutureWarning)\n",
      "/opt/conda/lib/python3.7/site-packages/sklearn/linear_model/logistic.py:433: FutureWarning: Default solver will be changed to 'lbfgs' in 0.22. Specify a solver to silence this warning.\n",
      "  FutureWarning)\n",
      "/opt/conda/lib/python3.7/site-packages/sklearn/linear_model/logistic.py:433: FutureWarning: Default solver will be changed to 'lbfgs' in 0.22. Specify a solver to silence this warning.\n",
      "  FutureWarning)\n",
      "/opt/conda/lib/python3.7/site-packages/sklearn/model_selection/_split.py:2053: FutureWarning: You should specify a value for 'cv' instead of relying on the default value. The default value will change from 3 to 5 in version 0.22.\n",
      "  warnings.warn(CV_WARNING, FutureWarning)\n",
      "/opt/conda/lib/python3.7/site-packages/sklearn/linear_model/logistic.py:433: FutureWarning: Default solver will be changed to 'lbfgs' in 0.22. Specify a solver to silence this warning.\n",
      "  FutureWarning)\n",
      "/opt/conda/lib/python3.7/site-packages/sklearn/linear_model/logistic.py:433: FutureWarning: Default solver will be changed to 'lbfgs' in 0.22. Specify a solver to silence this warning.\n",
      "  FutureWarning)\n",
      "/opt/conda/lib/python3.7/site-packages/sklearn/linear_model/logistic.py:433: FutureWarning: Default solver will be changed to 'lbfgs' in 0.22. Specify a solver to silence this warning.\n",
      "  FutureWarning)\n",
      "/opt/conda/lib/python3.7/site-packages/sklearn/model_selection/_split.py:2053: FutureWarning: You should specify a value for 'cv' instead of relying on the default value. The default value will change from 3 to 5 in version 0.22.\n",
      "  warnings.warn(CV_WARNING, FutureWarning)\n",
      "/opt/conda/lib/python3.7/site-packages/sklearn/linear_model/logistic.py:433: FutureWarning: Default solver will be changed to 'lbfgs' in 0.22. Specify a solver to silence this warning.\n",
      "  FutureWarning)\n",
      "/opt/conda/lib/python3.7/site-packages/sklearn/linear_model/logistic.py:433: FutureWarning: Default solver will be changed to 'lbfgs' in 0.22. Specify a solver to silence this warning.\n",
      "  FutureWarning)\n",
      "/opt/conda/lib/python3.7/site-packages/sklearn/linear_model/logistic.py:433: FutureWarning: Default solver will be changed to 'lbfgs' in 0.22. Specify a solver to silence this warning.\n",
      "  FutureWarning)\n",
      "/opt/conda/lib/python3.7/site-packages/sklearn/model_selection/_split.py:2053: FutureWarning: You should specify a value for 'cv' instead of relying on the default value. The default value will change from 3 to 5 in version 0.22.\n",
      "  warnings.warn(CV_WARNING, FutureWarning)\n"
     ]
    },
    {
     "name": "stderr",
     "output_type": "stream",
     "text": [
      "/opt/conda/lib/python3.7/site-packages/sklearn/linear_model/logistic.py:433: FutureWarning: Default solver will be changed to 'lbfgs' in 0.22. Specify a solver to silence this warning.\n",
      "  FutureWarning)\n",
      "/opt/conda/lib/python3.7/site-packages/sklearn/linear_model/logistic.py:433: FutureWarning: Default solver will be changed to 'lbfgs' in 0.22. Specify a solver to silence this warning.\n",
      "  FutureWarning)\n",
      "/opt/conda/lib/python3.7/site-packages/sklearn/linear_model/logistic.py:433: FutureWarning: Default solver will be changed to 'lbfgs' in 0.22. Specify a solver to silence this warning.\n",
      "  FutureWarning)\n"
     ]
    },
    {
     "data": {
      "text/plain": [
       "<ErrorbarContainer object of 3 artists>"
      ]
     },
     "execution_count": 25,
     "metadata": {},
     "output_type": "execute_result"
    },
    {
     "data": {
      "image/png": "[encoded data removed]",
      "text/plain": [
       "<Figure size 432x288 with 1 Axes>"
      ]
     },
     "metadata": {
      "needs_background": "light"
     },
     "output_type": "display_data"
    }
   ],
   "source": [
    "from sklearn.feature_selection import SelectPercentile\n",
    "from sklearn.pipeline import Pipeline\n",
    "from sklearn.linear_model import LogisticRegression\n",
    "from sklearn.model_selection import cross_val_score\n",
    "\n",
    "seleccion = SelectPercentile(f_classif)\n",
    "pipe = Pipeline([('seleccion', seleccion), ('lr', LogisticRegression())])\n",
    "\n",
    "score_means = list()\n",
    "score_stds = list()\n",
    "porcentajes = [1,5] + list(np.linspace(10,100,10))\n",
    "\n",
    "for p in porcentajes:\n",
    "    pipe.set_params(seleccion__percentile=p)\n",
    "    this_scores = cross_val_score(pipe, X, Y)\n",
    "    score_means.append(this_scores.mean())\n",
    "    score_stds.append(this_scores.std())\n",
    "    \n",
    "plt.errorbar(porcentajes, score_means, np.array(score_stds))\n",
    "        "
   ]
  },
  {
   "cell_type": "markdown",
   "metadata": {},
   "source": [
    "# <font color=\"#004D7F\"> 5 Selección de Variables</font> \n",
    "## <font color=\"#004D7F\"> Ranking por test ANOVA</font> \n",
    "\n",
    "### Evaluar algoritmo utilizando 2 métodos de selección ANOVA vs MI\n",
    "\n",
    "M.I. -> Mutual Information"
   ]
  },
  {
   "cell_type": "code",
   "execution_count": 30,
   "metadata": {
    "collapsed": true
   },
   "outputs": [
    {
     "name": "stdout",
     "output_type": "stream",
     "text": [
      "Acc sin seleccion: 0.9298\n",
      "Acc con 10 mejores ANOVA: 0.9386\n",
      "Acc con 10 mejores MI: 0.9474\n"
     ]
    },
    {
     "name": "stderr",
     "output_type": "stream",
     "text": [
      "/opt/conda/lib/python3.7/site-packages/sklearn/linear_model/logistic.py:433: FutureWarning: Default solver will be changed to 'lbfgs' in 0.22. Specify a solver to silence this warning.\n",
      "  FutureWarning)\n",
      "/opt/conda/lib/python3.7/site-packages/sklearn/linear_model/logistic.py:433: FutureWarning: Default solver will be changed to 'lbfgs' in 0.22. Specify a solver to silence this warning.\n",
      "  FutureWarning)\n",
      "/opt/conda/lib/python3.7/site-packages/sklearn/linear_model/logistic.py:433: FutureWarning: Default solver will be changed to 'lbfgs' in 0.22. Specify a solver to silence this warning.\n",
      "  FutureWarning)\n"
     ]
    }
   ],
   "source": [
    "from sklearn.feature_selection import mutual_info_classif\n",
    "# Seleccionar las 10 mejores segun test ANOVA\n",
    "K = 10\n",
    "ranking_F = SelectKBest(score_func = f_classif, k=K)\n",
    "ranking_F.fit(X_t,Y_t)\n",
    "X_seleccionF = ranking_F.transform(X_t)\n",
    "\n",
    "# Seleccionar las 10 mejores por MI\n",
    "K = 10\n",
    "ranking_MI = SelectKBest(score_func = mutual_info_classif, k=K)\n",
    "ranking_MI.fit(X_t,Y_t)\n",
    "X_seleccionMI = ranking_MI.transform(X_t) # proyectar\n",
    "\n",
    "# crear modelos\n",
    "lr = LogisticRegression(); lr_F = LogisticRegression(); lr_MI = LogisticRegression();\n",
    "lr.fit(X_t,Y_t); lr_F.fit(X_seleccionF,Y_t); lr_MI.fit(X_seleccionMI, Y_t)\n",
    "\n",
    "# Proyectar test y validar modelos\n",
    "XT_F =  ranking_F.transform(X_T); XT_MI = ranking_MI.transform(X_T)\n",
    "score = lr.score(X_T, Y_T)\n",
    "scoreF = lr_F.score(XT_F, Y_T)\n",
    "scoreMI = lr_MI.score(XT_MI, Y_T)\n",
    "\n",
    "print('Acc sin seleccion: {:.4f}'.format(score))\n",
    "print('Acc con 10 mejores ANOVA: {:.4f}'.format(scoreF))\n",
    "print('Acc con 10 mejores MI: {:.4f}'.format(scoreMI))"
   ]
  },
  {
   "cell_type": "markdown",
   "metadata": {},
   "source": [
    "# <font color=\"#004D7F\"> 5 Selección de Variables</font> \n",
    "\n",
    "\n",
    "### Seleccionar con Pipeline y CV\n",
    "C.V. -> Cross Validation"
   ]
  },
  {
   "cell_type": "code",
   "execution_count": null,
   "metadata": {},
   "outputs": [],
   "source": []
  },
  {
   "cell_type": "code",
   "execution_count": null,
   "metadata": {},
   "outputs": [],
   "source": []
  },
  {
   "cell_type": "code",
   "execution_count": null,
   "metadata": {},
   "outputs": [],
   "source": []
  }
 ],
 "metadata": {
  "kernelspec": {
   "display_name": "Python 3",
   "language": "python",
   "name": "python3"
  },
  "language_info": {
   "codemirror_mode": {
    "name": "ipython",
    "version": 3
   },
   "file_extension": ".py",
   "mimetype": "text/x-python",
   "name": "python",
   "nbconvert_exporter": "python",
   "pygments_lexer": "ipython3",
   "version": "3.7.3"
  }
 },
 "nbformat": 4,
 "nbformat_minor": 2
}
