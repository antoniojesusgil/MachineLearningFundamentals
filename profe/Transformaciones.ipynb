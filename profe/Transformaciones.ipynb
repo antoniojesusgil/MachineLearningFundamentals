{
 "cells": [
  {
   "cell_type": "markdown",
   "metadata": {},
   "source": [
    "# <font color=\"#004D7F\">4 Transformaciones</font>\n",
    "En este caso, los valores perdidos han sido sustituidos por la media de los valores conocidos en `bareNuclei`. Si vamos a la documentación del `Imputer` en https://scikit-learn.org/stable/modules/generated/sklearn.impute.SimpleImputer.html, podremos observar los diferentes parámetros de configuración del algoritmo. Si queremos modificar el comportamiento del algoritmo deberemos definir estos parámetros\n",
    "en el constructor cuando creemos el objeto. \n",
    "\n",
    "### <font color=\"#004D7F\"> <i class=\"fa fa-pencil-square-o\" aria-hidden=\"true\" style=\"color:#113D68\"></i> Ejercicio 1: Valores perdidos por la moda</font>\n",
    "\n",
    "En este primer ejercicio se pide utilizar la mediana en vez de la media para rellenar los valores perdidos de `wisconsin_data`."
   ]
  },
  {
   "cell_type": "code",
   "execution_count": 1,
   "metadata": {},
   "outputs": [
    {
     "data": {
      "text/plain": [
       "patientId            0\n",
       "clumpThickness       0\n",
       "cellSize             0\n",
       "CellShape            0\n",
       "marginalAdhesion     0\n",
       "epithelialSize       0\n",
       "bareNuclei          32\n",
       "blandChromatin       0\n",
       "normalNucleoli       0\n",
       "mitoses              0\n",
       "dtype: int64"
      ]
     },
     "execution_count": 1,
     "metadata": {},
     "output_type": "execute_result"
    }
   ],
   "source": [
    "import pandas as pd\n",
    "wisconsin = pd.read_csv('../1-ScikitLearn/wisconsin.csv')\n",
    "#wisconsin.head(5)\n",
    "wisconsin_data = wisconsin.drop('label',1)\n",
    "wisconsin_target = wisconsin['label']\n",
    "wisconsin_data.isnull().sum()"
   ]
  },
  {
   "cell_type": "code",
   "execution_count": 2,
   "metadata": {},
   "outputs": [
    {
     "name": "stdout",
     "output_type": "stream",
     "text": [
      "patientId           0\n",
      "clumpThickness      0\n",
      "cellSize            0\n",
      "CellShape           0\n",
      "marginalAdhesion    0\n",
      "epithelialSize      0\n",
      "bareNuclei          0\n",
      "blandChromatin      0\n",
      "normalNucleoli      0\n",
      "mitoses             0\n",
      "dtype: int64\n"
     ]
    }
   ],
   "source": [
    "import numpy as np\n",
    "from sklearn.impute import SimpleImputer\n",
    "imp_moda = SimpleImputer()\n",
    "imp_mmoda = SimpleImputer(missing_values=np.nan, strategy='most_frequent')\n",
    "imp_moda.fit(wisconsin_data)\n",
    "wisconsin_trans_moda = imp_moda.transform(wisconsin_data)\n",
    "wisconsin_trans_moda = pd.DataFrame(wisconsin_trans_moda, columns = wisconsin_data.columns)\n",
    "\n",
    "# Si volvemos a comprobar los NaN's en la nueva base de datos, vemos que ya no hay\n",
    "print(np.sum(np.isnan(wisconsin_trans_moda)))"
   ]
  },
  {
   "cell_type": "markdown",
   "metadata": {},
   "source": [
    "### <font color=\"#004D7F\"> <i class=\"fa fa-pencil-square-o\" aria-hidden=\"true\" style=\"color:#113D68\"></i> Ejercicio 2: Nuevas variables polinomiales de grado 2 en Pima</font> \n",
    "\n",
    "La forma de utilizar el algoritmo es igual que con `Imputer`, por eso se pide que utilizando `fit` y `transform` o `fit_transform`, se obtenga de `pima_data` una nueva base de datos llamada `pima_pol` aplicando `PolynomialFeatures`. Imprimir cuantas variables tiene ahora la base de datos y su nombre. Para obtener el nombre de las nuevas características mirar la función `get_feature_names` de la documentación en http://scikit-learn.org/stable/modules/generated/sklearn.preprocessing.PolynomialFeatures.html\n",
    "\n",
    "Se pide: \n",
    "\n",
    "Aplicar este transformador en una nueva variable denominada `pima_pol` de igual manera que en el ejercio anterior.\n",
    "Se obtendran muchas variables nuevas a partir de las originales ¿nombre? ¿como se han generado? ¿como estan ordenadas?"
   ]
  },
  {
   "cell_type": "code",
   "execution_count": 3,
   "metadata": {},
   "outputs": [
    {
     "data": {
      "text/plain": [
       "array([[ 1.00000000e+00,  3.80759064e-02,  5.06801187e-02, ...,\n",
       "         3.96345222e-04, -3.51306487e-04,  3.11385733e-04],\n",
       "       [ 1.00000000e+00, -1.88201653e-03, -4.46416365e-02, ...,\n",
       "         4.66895386e-03,  6.30027907e-03,  8.50158677e-03],\n",
       "       [ 1.00000000e+00,  8.52989063e-02,  5.06801187e-02, ...,\n",
       "         8.20118159e-06, -7.42585403e-05,  6.72382480e-04],\n",
       "       ...,\n",
       "       [ 1.00000000e+00,  4.17084449e-02,  5.06801187e-02, ...,\n",
       "         2.19768591e-03, -7.26197419e-04,  2.39962721e-04],\n",
       "       [ 1.00000000e+00, -4.54724779e-02, -4.46416365e-02, ...,\n",
       "         1.98277609e-03, -1.15463583e-03,  6.72382480e-04],\n",
       "       [ 1.00000000e+00, -4.54724779e-02, -4.46416365e-02, ...,\n",
       "         1.78072159e-05, -1.29313778e-05,  9.39060506e-06]])"
      ]
     },
     "execution_count": 3,
     "metadata": {},
     "output_type": "execute_result"
    }
   ],
   "source": [
    "import sklearn.datasets\n",
    "pima = sklearn.datasets.load_diabetes()\n",
    "pima_data = pima['data']\n",
    "pima_target = pima['target']\n",
    " \n",
    "from sklearn.preprocessing import PolynomialFeatures\n",
    "\n",
    "poly = PolynomialFeatures(degree=2)\n",
    "pima_pol = poly.fit_transform(pima_data)\n",
    "#print(poly.fit_transform(pima_data))\n",
    "pima_pol"
   ]
  },
  {
   "cell_type": "code",
   "execution_count": 4,
   "metadata": {},
   "outputs": [
    {
     "name": "stdout",
     "output_type": "stream",
     "text": [
      "(442, 66)\n"
     ]
    }
   ],
   "source": [
    "print(pima_pol.shape)"
   ]
  },
  {
   "cell_type": "markdown",
   "metadata": {},
   "source": [
    "### <font color=\"#004D7F\"> <i class=\"fa fa-pencil-square-o\" aria-hidden=\"true\" style=\"color:#113D68\"></i> Ejercicio 3: Dígitos de MNIST normalizados por la media</font> \n",
    "\n",
    "Se pide de la misma forma que en el caso anterior, se pruebe este transformador y que se obtenga una nueva base de datos mnist_scaler y que se comparen los dígitos imprimidos antes con los transformados."
   ]
  },
  {
   "cell_type": "code",
   "execution_count": null,
   "metadata": {},
   "outputs": [],
   "source": [
    "scaler = StandardScaler()\n",
    "\n",
    "X_train = scaler.fit_transform(mnist_data)\n",
    "\n",
    "print(np.sum(np.isnan(X_train)))"
   ]
  },
  {
   "cell_type": "code",
   "execution_count": null,
   "metadata": {},
   "outputs": [],
   "source": []
  },
  {
   "cell_type": "code",
   "execution_count": null,
   "metadata": {},
   "outputs": [],
   "source": []
  },
  {
   "cell_type": "code",
   "execution_count": null,
   "metadata": {},
   "outputs": [],
   "source": []
  },
  {
   "cell_type": "code",
   "execution_count": null,
   "metadata": {},
   "outputs": [],
   "source": []
  },
  {
   "cell_type": "code",
   "execution_count": null,
   "metadata": {},
   "outputs": [],
   "source": []
  }
 ],
 "metadata": {
  "kernelspec": {
   "display_name": "Python 3",
   "language": "python",
   "name": "python3"
  },
  "language_info": {
   "codemirror_mode": {
    "name": "ipython",
    "version": 3
   },
   "file_extension": ".py",
   "mimetype": "text/x-python",
   "name": "python",
   "nbconvert_exporter": "python",
   "pygments_lexer": "ipython3",
   "version": "3.7.3"
  }
 },
 "nbformat": 4,
 "nbformat_minor": 2
}
