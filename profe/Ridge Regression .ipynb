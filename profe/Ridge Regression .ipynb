{
 "cells": [
  {
   "cell_type": "code",
   "execution_count": 1,
   "metadata": {},
   "outputs": [],
   "source": [
    "#Import libraries\n",
    "import numpy as np\n",
    "import pandas as pd\n",
    "import sklearn\n",
    "import seaborn as sns\n",
    "import matplotlib.pyplot as plt\n",
    "%matplotlib inline\n",
    "from pylab import rcParams\n",
    "rcParams['figure.figsize'] = 10, 8\n",
    "\n",
    "from sklearn import datasets, linear_model\n",
    "from sklearn.linear_model import LinearRegression, Ridge, Lasso\n",
    "from sklearn.model_selection import train_test_split\n",
    "from sklearn.linear_model import LinearRegression, Lasso, Ridge\n",
    "from sklearn.metrics import mean_squared_error, r2_score, mean_absolute_error\n",
    "# from sklearn.cross_validation import KFold\n",
    "from sklearn.datasets import load_boston\n",
    "from sklearn.preprocessing import PolynomialFeatures\n",
    "from sklearn.pipeline import make_pipeline\n",
    "from scipy.interpolate import spline\n",
    "from sklearn.neighbors import KNeighborsRegressor\n",
    "from sklearn.kernel_ridge import KernelRidge"
   ]
  },
  {
   "cell_type": "code",
   "execution_count": 2,
   "metadata": {},
   "outputs": [
    {
     "name": "stdout",
     "output_type": "stream",
     "text": [
      "(506, 13)\n"
     ]
    },
    {
     "data": {
      "text/plain": [
       "dict_keys(['data', 'target', 'feature_names', 'DESCR', 'filename'])"
      ]
     },
     "execution_count": 2,
     "metadata": {},
     "output_type": "execute_result"
    }
   ],
   "source": [
    "boston = load_boston()\n",
    "print(boston.data.shape)\n",
    "boston.keys()"
   ]
  },
  {
   "cell_type": "code",
   "execution_count": 3,
   "metadata": {},
   "outputs": [],
   "source": [
    "\n",
    "boston_data = pd.DataFrame(boston['data'], columns=boston.feature_names)\n",
    "boston_target = pd.DataFrame(boston['target'], columns={'Target'})\n",
    "# print(boston_data.head(2))\n",
    "# print(boston_target.head(2))"
   ]
  },
  {
   "cell_type": "code",
   "execution_count": 4,
   "metadata": {},
   "outputs": [
    {
     "data": {
      "text/plain": [
       "<matplotlib.axes._subplots.AxesSubplot at 0x7f7b2a91f780>"
      ]
     },
     "execution_count": 4,
     "metadata": {},
     "output_type": "execute_result"
    },
    {
     "data": {
      "image/png": "[encoded data removed]",
      "text/plain": [
       "<Figure size 432x288 with 2 Axes>"
      ]
     },
     "metadata": {
      "needs_background": "light"
     },
     "output_type": "display_data"
    }
   ],
   "source": [
    "#Visualize correlation between attributes by using heatmap\n",
    "sns.heatmap(boston_data.corr())"
   ]
  },
  {
   "cell_type": "code",
   "execution_count": 5,
   "metadata": {},
   "outputs": [],
   "source": [
    "# Feature contains high correlation. We need to remove them first before applying regression techniques.\n",
    "# Create correlation matrix\n",
    "abs_corr_matrix = boston_data.corr().abs()"
   ]
  },
  {
   "cell_type": "code",
   "execution_count": 6,
   "metadata": {},
   "outputs": [
    {
     "name": "stdout",
     "output_type": "stream",
     "text": [
      "['NOX', 'DIS', 'TAX']\n"
     ]
    }
   ],
   "source": [
    "# Select upper triangle of matrix\n",
    "up_tri = abs_corr_matrix.where(np.triu(np.ones(abs_corr_matrix.shape), k=1).astype(np.bool))\n",
    "\n",
    "# Find all the features which is having correlation > 0.75 with other features.\n",
    "correlated_features = [column for column in up_tri.columns if any(up_tri[column] > 0.75)]\n",
    "\n",
    "#Print correlated_features\n",
    "print(correlated_features)\n"
   ]
  },
  {
   "cell_type": "code",
   "execution_count": 7,
   "metadata": {},
   "outputs": [],
   "source": [
    "#Drop correlated features:\n",
    "\n",
    "boston_data = boston_data.drop(correlated_features, axis=1)"
   ]
  },
  {
   "cell_type": "code",
   "execution_count": 8,
   "metadata": {},
   "outputs": [],
   "source": [
    "#Divide the data into training and test set. Train set contains 80% of the data. Test set contains 20% of the data.\n",
    "\n",
    "X_train, X_test, Y_train, Y_test = train_test_split(boston_data, boston_target, test_size=0.20)"
   ]
  },
  {
   "cell_type": "code",
   "execution_count": 9,
   "metadata": {},
   "outputs": [],
   "source": [
    "ridge_regression = Ridge()"
   ]
  },
  {
   "cell_type": "code",
   "execution_count": 10,
   "metadata": {},
   "outputs": [],
   "source": [
    "# fit the model\n",
    "ridge_regression.fit(X_train,Y_train)\n",
    "\n",
    "# Predicciones\n",
    "\n",
    "pred = ridge_regression.predict(X_test)"
   ]
  },
  {
   "cell_type": "code",
   "execution_count": 11,
   "metadata": {},
   "outputs": [
    {
     "name": "stdout",
     "output_type": "stream",
     "text": [
      "Mean absolute error: 3.23\n"
     ]
    }
   ],
   "source": [
    "# Mean absoulte error\n",
    "print('Mean absolute error: %.2f' % mean_absolute_error(Y_test,pred))"
   ]
  },
  {
   "cell_type": "markdown",
   "metadata": {},
   "source": [
    "Combinacion de parámetros para obtener mejores resultados:\n",
    "- alpha: Regularización de strength. Tuning de parámetros que controla\n",
    "\n",
    "- normalize: Boolean, Normaliza los datos (o no)\n",
    "\n",
    "- max_iter: iteraciones\n",
    "\n",
    "- solve: {'auto','saga','lsqr','sparse_cg','svd','cholesky', 'sag'}\n",
    "\n",
    "### Ridge Regresssion modificada"
   ]
  },
  {
   "cell_type": "code",
   "execution_count": 12,
   "metadata": {},
   "outputs": [
    {
     "name": "stdout",
     "output_type": "stream",
     "text": [
      "Mean absolute error: 3.33\n"
     ]
    }
   ],
   "source": [
    "ridge_regression = Ridge(alpha=0.2, normalize=True, max_iter=1000, solver='cholesky')\n",
    "\n",
    "# fit the model\n",
    "ridge_regression.fit(X_train,Y_train)\n",
    "\n",
    "# Predicciones\n",
    "pred = ridge_regression.predict(X_test)\n",
    "\n",
    "# Mean absoulte error\n",
    "print('Mean absolute error: %.2f' % mean_absolute_error(Y_test,pred))"
   ]
  },
  {
   "cell_type": "markdown",
   "metadata": {},
   "source": [
    "### K-Fold Cross Validation\n",
    "\n",
    "consiste en dividir el dataset de train en distintas particiones iguales (5) por ejemplo y entrenar el modelo K veces. Ojo, esto puede ser muy costoso a nivel computacional.\n",
    "\n",
    "Para ello entrenamos el modelo para utilizando la tecnica __Leave One Out Cross Validation__ Normalmente K es 5, 10 o 20\n",
    "\n",
    "Ridge Regression ayuda a reducir el sobreajuste `overfitting` podemos aplicar un penalty alto."
   ]
  },
  {
   "cell_type": "code",
   "execution_count": 13,
   "metadata": {},
   "outputs": [],
   "source": [
    "# funcion que obtiene el numero de grados, train and test y genera la curva de regresion\n",
    "def ridge_regression_grado(X_train, Y_train, X_test, Y_test, degree, alpha):\n",
    "    # make pipeline for higher degree\n",
    "    model = make_pipeline(PolynomialFeatures(degree), Ridge(alpha=alpha))\n",
    "    model.fit(pd.DataFrame(X_train), pd.DataFrame(Y_train))\n",
    "    \n",
    "    # change training and test data as requirement\n",
    "    X_test = pd.DataFrame(X_test,columns=['X'])\n",
    "    X_test = X_test.sort_values(by=['X'])\n",
    "    Y_test = pd.DataFrame(Y_test)\n",
    "    Y_test = Y_test.ix[X_test.index]\n",
    "    \n",
    "    # Generate prediccitions\n",
    "    Y_pred = model.predict(X_test)\n",
    "    # Perform spline smoothing. Higher degree lines will be much smooth\n",
    "    smooth_feature = np.linspace(np.min(X_test['X'].tolist()), np.max(X_test['X'].tolist()),1000)\n",
    "    smooth_points = spline(X_test['X'].tolist(), Y_pred, smooth_feature)\n",
    "    \n",
    "    # plot the curve\n",
    "    plt.scatter(X_test, Y_test, color='blue')\n",
    "    plt.plot(smooth_feature,smooth_points,'-g')\n",
    "    plt.title('Mean absolute error: %.4f' % mean_absolute_error(Y_test,Y_pred))"
   ]
  },
  {
   "cell_type": "code",
   "execution_count": null,
   "metadata": {},
   "outputs": [],
   "source": [
    "# grado 16 y alpha 0\n",
    "ridge_regression_grado(X_train, Y_train, X_test, Y_test, 16, 0)"
   ]
  },
  {
   "cell_type": "code",
   "execution_count": null,
   "metadata": {},
   "outputs": [],
   "source": [
    "# grado 16 y alpha 0.01\n",
    "ridge_regression_grado(X_train, Y_train, X_test, Y_test, 16, 0.01)"
   ]
  },
  {
   "cell_type": "code",
   "execution_count": null,
   "metadata": {},
   "outputs": [],
   "source": [
    "# grado 16 y alpha 1\n",
    "ridge_regression_grado(X_train, Y_train, X_test, Y_test, 16, 1)"
   ]
  },
  {
   "cell_type": "code",
   "execution_count": null,
   "metadata": {},
   "outputs": [],
   "source": [
    "# grado 16 y alpha 100\n",
    "ridge_regression_grado(X_train, Y_train, X_test, Y_test, 16, 100)"
   ]
  },
  {
   "cell_type": "code",
   "execution_count": null,
   "metadata": {},
   "outputs": [],
   "source": []
  },
  {
   "cell_type": "code",
   "execution_count": null,
   "metadata": {},
   "outputs": [],
   "source": []
  },
  {
   "cell_type": "code",
   "execution_count": null,
   "metadata": {},
   "outputs": [],
   "source": []
  },
  {
   "cell_type": "code",
   "execution_count": null,
   "metadata": {},
   "outputs": [],
   "source": []
  }
 ],
 "metadata": {
  "kernelspec": {
   "display_name": "Python 3",
   "language": "python",
   "name": "python3"
  },
  "language_info": {
   "codemirror_mode": {
    "name": "ipython",
    "version": 3
   },
   "file_extension": ".py",
   "mimetype": "text/x-python",
   "name": "python",
   "nbconvert_exporter": "python",
   "pygments_lexer": "ipython3",
   "version": "3.7.3"
  }
 },
 "nbformat": 4,
 "nbformat_minor": 2
}
